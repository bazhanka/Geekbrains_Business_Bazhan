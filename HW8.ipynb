{
  "cells": [
    {
      "cell_type": "code",
      "execution_count": null,
      "metadata": {
        "id": "9Bac65_3dUx3"
      },
      "outputs": [],
      "source": [
        "import pandas as pd\n",
        "import numpy as np\n",
        "import random\n",
        "import scipy\n",
        "import scipy as sp\n",
        "import scipy.stats as sts\n",
        "import matplotlib.pyplot as plt\n",
        "%matplotlib inline\n",
        "\n",
        "random.seed(42)"
      ]
    },
    {
      "cell_type": "code",
      "source": [
        "ab = \"/content/ab_datas.csv\""
      ],
      "metadata": {
        "id": "ENLQWQy7f53e"
      },
      "execution_count": null,
      "outputs": []
    },
    {
      "cell_type": "code",
      "execution_count": null,
      "metadata": {
        "colab": {
          "base_uri": "https://localhost:8080/",
          "height": 206
        },
        "id": "WmrvOCGt-ltX",
        "outputId": "8f068e52-d175-4469-c2b0-2ad1321fc1fb"
      },
      "outputs": [
        {
          "output_type": "execute_result",
          "data": {
            "text/html": [
              "\n",
              "  <div id=\"df-57f9f512-6d46-4bb2-8ed2-cea656715b01\">\n",
              "    <div class=\"colab-df-container\">\n",
              "      <div>\n",
              "<style scoped>\n",
              "    .dataframe tbody tr th:only-of-type {\n",
              "        vertical-align: middle;\n",
              "    }\n",
              "\n",
              "    .dataframe tbody tr th {\n",
              "        vertical-align: top;\n",
              "    }\n",
              "\n",
              "    .dataframe thead th {\n",
              "        text-align: right;\n",
              "    }\n",
              "</style>\n",
              "<table border=\"1\" class=\"dataframe\">\n",
              "  <thead>\n",
              "    <tr style=\"text-align: right;\">\n",
              "      <th></th>\n",
              "      <th>user_id</th>\n",
              "      <th>timestamp</th>\n",
              "      <th>group</th>\n",
              "      <th>landing_page</th>\n",
              "      <th>converted</th>\n",
              "      <th>revenue</th>\n",
              "    </tr>\n",
              "  </thead>\n",
              "  <tbody>\n",
              "    <tr>\n",
              "      <th>0</th>\n",
              "      <td>851104</td>\n",
              "      <td>2017-01-21 22:11:48.556739</td>\n",
              "      <td>control</td>\n",
              "      <td>old_page</td>\n",
              "      <td>0</td>\n",
              "      <td>0</td>\n",
              "    </tr>\n",
              "    <tr>\n",
              "      <th>1</th>\n",
              "      <td>804228</td>\n",
              "      <td>2017-01-12 08:01:45.159739</td>\n",
              "      <td>control</td>\n",
              "      <td>old_page</td>\n",
              "      <td>0</td>\n",
              "      <td>0</td>\n",
              "    </tr>\n",
              "    <tr>\n",
              "      <th>2</th>\n",
              "      <td>661590</td>\n",
              "      <td>2017-01-11 16:55:06.154213</td>\n",
              "      <td>treatment</td>\n",
              "      <td>new_page</td>\n",
              "      <td>0</td>\n",
              "      <td>100</td>\n",
              "    </tr>\n",
              "    <tr>\n",
              "      <th>3</th>\n",
              "      <td>853541</td>\n",
              "      <td>2017-01-08 18:28:03.143765</td>\n",
              "      <td>treatment</td>\n",
              "      <td>new_page</td>\n",
              "      <td>0</td>\n",
              "      <td>0</td>\n",
              "    </tr>\n",
              "    <tr>\n",
              "      <th>4</th>\n",
              "      <td>864975</td>\n",
              "      <td>2017-01-21 01:52:26.210827</td>\n",
              "      <td>control</td>\n",
              "      <td>old_page</td>\n",
              "      <td>1</td>\n",
              "      <td>250</td>\n",
              "    </tr>\n",
              "  </tbody>\n",
              "</table>\n",
              "</div>\n",
              "      <button class=\"colab-df-convert\" onclick=\"convertToInteractive('df-57f9f512-6d46-4bb2-8ed2-cea656715b01')\"\n",
              "              title=\"Convert this dataframe to an interactive table.\"\n",
              "              style=\"display:none;\">\n",
              "        \n",
              "  <svg xmlns=\"http://www.w3.org/2000/svg\" height=\"24px\"viewBox=\"0 0 24 24\"\n",
              "       width=\"24px\">\n",
              "    <path d=\"M0 0h24v24H0V0z\" fill=\"none\"/>\n",
              "    <path d=\"M18.56 5.44l.94 2.06.94-2.06 2.06-.94-2.06-.94-.94-2.06-.94 2.06-2.06.94zm-11 1L8.5 8.5l.94-2.06 2.06-.94-2.06-.94L8.5 2.5l-.94 2.06-2.06.94zm10 10l.94 2.06.94-2.06 2.06-.94-2.06-.94-.94-2.06-.94 2.06-2.06.94z\"/><path d=\"M17.41 7.96l-1.37-1.37c-.4-.4-.92-.59-1.43-.59-.52 0-1.04.2-1.43.59L10.3 9.45l-7.72 7.72c-.78.78-.78 2.05 0 2.83L4 21.41c.39.39.9.59 1.41.59.51 0 1.02-.2 1.41-.59l7.78-7.78 2.81-2.81c.8-.78.8-2.07 0-2.86zM5.41 20L4 18.59l7.72-7.72 1.47 1.35L5.41 20z\"/>\n",
              "  </svg>\n",
              "      </button>\n",
              "      \n",
              "  <style>\n",
              "    .colab-df-container {\n",
              "      display:flex;\n",
              "      flex-wrap:wrap;\n",
              "      gap: 12px;\n",
              "    }\n",
              "\n",
              "    .colab-df-convert {\n",
              "      background-color: #E8F0FE;\n",
              "      border: none;\n",
              "      border-radius: 50%;\n",
              "      cursor: pointer;\n",
              "      display: none;\n",
              "      fill: #1967D2;\n",
              "      height: 32px;\n",
              "      padding: 0 0 0 0;\n",
              "      width: 32px;\n",
              "    }\n",
              "\n",
              "    .colab-df-convert:hover {\n",
              "      background-color: #E2EBFA;\n",
              "      box-shadow: 0px 1px 2px rgba(60, 64, 67, 0.3), 0px 1px 3px 1px rgba(60, 64, 67, 0.15);\n",
              "      fill: #174EA6;\n",
              "    }\n",
              "\n",
              "    [theme=dark] .colab-df-convert {\n",
              "      background-color: #3B4455;\n",
              "      fill: #D2E3FC;\n",
              "    }\n",
              "\n",
              "    [theme=dark] .colab-df-convert:hover {\n",
              "      background-color: #434B5C;\n",
              "      box-shadow: 0px 1px 3px 1px rgba(0, 0, 0, 0.15);\n",
              "      filter: drop-shadow(0px 1px 2px rgba(0, 0, 0, 0.3));\n",
              "      fill: #FFFFFF;\n",
              "    }\n",
              "  </style>\n",
              "\n",
              "      <script>\n",
              "        const buttonEl =\n",
              "          document.querySelector('#df-57f9f512-6d46-4bb2-8ed2-cea656715b01 button.colab-df-convert');\n",
              "        buttonEl.style.display =\n",
              "          google.colab.kernel.accessAllowed ? 'block' : 'none';\n",
              "\n",
              "        async function convertToInteractive(key) {\n",
              "          const element = document.querySelector('#df-57f9f512-6d46-4bb2-8ed2-cea656715b01');\n",
              "          const dataTable =\n",
              "            await google.colab.kernel.invokeFunction('convertToInteractive',\n",
              "                                                     [key], {});\n",
              "          if (!dataTable) return;\n",
              "\n",
              "          const docLinkHtml = 'Like what you see? Visit the ' +\n",
              "            '<a target=\"_blank\" href=https://colab.research.google.com/notebooks/data_table.ipynb>data table notebook</a>'\n",
              "            + ' to learn more about interactive tables.';\n",
              "          element.innerHTML = '';\n",
              "          dataTable['output_type'] = 'display_data';\n",
              "          await google.colab.output.renderOutput(dataTable, element);\n",
              "          const docLink = document.createElement('div');\n",
              "          docLink.innerHTML = docLinkHtml;\n",
              "          element.appendChild(docLink);\n",
              "        }\n",
              "      </script>\n",
              "    </div>\n",
              "  </div>\n",
              "  "
            ],
            "text/plain": [
              "   user_id                   timestamp  ... converted revenue\n",
              "0   851104  2017-01-21 22:11:48.556739  ...         0       0\n",
              "1   804228  2017-01-12 08:01:45.159739  ...         0       0\n",
              "2   661590  2017-01-11 16:55:06.154213  ...         0     100\n",
              "3   853541  2017-01-08 18:28:03.143765  ...         0       0\n",
              "4   864975  2017-01-21 01:52:26.210827  ...         1     250\n",
              "\n",
              "[5 rows x 6 columns]"
            ]
          },
          "metadata": {},
          "execution_count": 4
        }
      ],
      "source": [
        "df = pd.read_csv(ab)\n",
        "\n",
        "df.head()"
      ]
    },
    {
      "cell_type": "markdown",
      "metadata": {
        "id": "OjE-8Ylg-ltY"
      },
      "source": [
        "Посмотрим, сколько посетителей заходио на сайт (количество строк в нашем датафрейме)"
      ]
    },
    {
      "cell_type": "code",
      "execution_count": null,
      "metadata": {
        "colab": {
          "base_uri": "https://localhost:8080/"
        },
        "id": "jyudDfaq-ltY",
        "outputId": "30d310ff-8f89-44e0-d434-c7efb6bc3fc7"
      },
      "outputs": [
        {
          "output_type": "stream",
          "name": "stdout",
          "text": [
            "Число строк: 201773\n"
          ]
        }
      ],
      "source": [
        "#количество посетителей всего\n",
        "\n",
        "n_rows = df.shape[0]\n",
        "print(\"Число строк: {}\".format(n_rows))"
      ]
    },
    {
      "cell_type": "markdown",
      "metadata": {
        "id": "RAOG9bmL-ltY"
      },
      "source": [
        "Сколько уникальных пользователей (уникальных `user_id`) в датасете?"
      ]
    },
    {
      "cell_type": "code",
      "execution_count": null,
      "metadata": {
        "colab": {
          "base_uri": "https://localhost:8080/"
        },
        "id": "WFa9Jd7--ltY",
        "outputId": "df774d04-9c9a-4def-fae3-fb0de5910333"
      },
      "outputs": [
        {
          "output_type": "stream",
          "name": "stdout",
          "text": [
            "Число уникальных пользователей : 199967\n"
          ]
        }
      ],
      "source": [
        "user_total = df.nunique()['user_id']\n",
        "print(\"Число уникальных пользователей : {}\".format(user_total))"
      ]
    },
    {
      "cell_type": "markdown",
      "metadata": {
        "collapsed": true,
        "id": "o3N6lGi5-ltY"
      },
      "source": [
        "Посетителей из контрольной `control` группы должны были направлять на страницу в старом дизайне  `old_page` , пользователей из тестовой группы `treatment` - на страницу в новом дизайне `new_page`. Проверим, были ли ошибки при направлении."
      ]
    },
    {
      "cell_type": "code",
      "execution_count": null,
      "metadata": {
        "colab": {
          "base_uri": "https://localhost:8080/"
        },
        "id": "BmE8wUnS-ltY",
        "outputId": "e8bb3a47-87ae-4761-add8-c2369d98c7ae"
      },
      "outputs": [
        {
          "output_type": "stream",
          "name": "stdout",
          "text": [
            "Из тестовой группы неверно направлены 1383 пользователей\n",
            "Из контрольной группы неверно направлены  1321 пользователей\n"
          ]
        }
      ],
      "source": [
        "mismatch_1 = df.query(\"group == 'treatment' and landing_page == 'old_page'\")\n",
        "print(\"Из тестовой группы неверно направлены {}\".format(len(mismatch_1)) + \" пользователей\")\n",
        "\n",
        "mismatch_2 = df.query(\"group == 'control' and landing_page == 'new_page'\")\n",
        "print(\"Из контрольной группы неверно направлены  {}\".format(len(mismatch_2)) + \" пользователей\")\n"
      ]
    },
    {
      "cell_type": "markdown",
      "metadata": {
        "id": "a2XyBHO6-ltY"
      },
      "source": [
        "Выясним, есть ли в данных пропуски."
      ]
    },
    {
      "cell_type": "code",
      "execution_count": null,
      "metadata": {
        "colab": {
          "base_uri": "https://localhost:8080/"
        },
        "id": "HZeyu9Vg-ltZ",
        "outputId": "536749d4-9e9c-4ec3-b81a-4d5ea379b634"
      },
      "outputs": [
        {
          "output_type": "stream",
          "name": "stdout",
          "text": [
            "<class 'pandas.core.frame.DataFrame'>\n",
            "RangeIndex: 201773 entries, 0 to 201772\n",
            "Data columns (total 6 columns):\n",
            " #   Column        Non-Null Count   Dtype \n",
            "---  ------        --------------   ----- \n",
            " 0   user_id       201773 non-null  int64 \n",
            " 1   timestamp     201773 non-null  object\n",
            " 2   group         201773 non-null  object\n",
            " 3   landing_page  201773 non-null  object\n",
            " 4   converted     201773 non-null  int64 \n",
            " 5   revenue       201773 non-null  int64 \n",
            "dtypes: int64(3), object(3)\n",
            "memory usage: 9.2+ MB\n"
          ]
        }
      ],
      "source": [
        "df.info()"
      ]
    },
    {
      "cell_type": "markdown",
      "metadata": {
        "id": "fBYhavoY-ltZ"
      },
      "source": [
        "Из сообщений следует, что пропущенных значений нет."
      ]
    },
    {
      "cell_type": "markdown",
      "metadata": {
        "collapsed": true,
        "id": "cG8tfrF9-ltZ"
      },
      "source": [
        "Конверсия по всем посетителям"
      ]
    },
    {
      "cell_type": "code",
      "execution_count": null,
      "metadata": {
        "colab": {
          "base_uri": "https://localhost:8080/"
        },
        "id": "p4Wtr0fr-ltZ",
        "outputId": "4f419085-682a-4988-fde1-591cb7b43cab"
      },
      "outputs": [
        {
          "output_type": "stream",
          "name": "stdout",
          "text": [
            "Конверсия по всем посетителям: 11.997145306854733 %\n"
          ]
        }
      ],
      "source": [
        "p_all=df['converted'].mean()\n",
        "print(\"Конверсия по всем посетителям: {} %\".format(p_all*100))"
      ]
    },
    {
      "cell_type": "code",
      "execution_count": null,
      "metadata": {
        "colab": {
          "base_uri": "https://localhost:8080/"
        },
        "id": "PdJekzO9-ltZ",
        "outputId": "3b5d647c-b19d-43b6-e4b4-e5961807c4aa"
      },
      "outputs": [
        {
          "output_type": "execute_result",
          "data": {
            "text/plain": [
              "0.11997145306854733"
            ]
          },
          "metadata": {},
          "execution_count": 10
        }
      ],
      "source": [
        "# можно и так:\n",
        "sum(df['converted'].values)/n_rows"
      ]
    },
    {
      "cell_type": "code",
      "execution_count": null,
      "metadata": {
        "colab": {
          "base_uri": "https://localhost:8080/",
          "height": 239
        },
        "id": "cywgO088-ltZ",
        "outputId": "9b26dbb3-19ec-4af2-e2d9-fdd4fe293d52"
      },
      "outputs": [
        {
          "output_type": "execute_result",
          "data": {
            "text/html": [
              "\n",
              "  <div id=\"df-13307b3e-9f77-4741-8692-4d8124b81e97\">\n",
              "    <div class=\"colab-df-container\">\n",
              "      <div>\n",
              "<style scoped>\n",
              "    .dataframe tbody tr th:only-of-type {\n",
              "        vertical-align: middle;\n",
              "    }\n",
              "\n",
              "    .dataframe tbody tr th {\n",
              "        vertical-align: top;\n",
              "    }\n",
              "\n",
              "    .dataframe thead tr th {\n",
              "        text-align: left;\n",
              "    }\n",
              "\n",
              "    .dataframe thead tr:last-of-type th {\n",
              "        text-align: right;\n",
              "    }\n",
              "</style>\n",
              "<table border=\"1\" class=\"dataframe\">\n",
              "  <thead>\n",
              "    <tr>\n",
              "      <th></th>\n",
              "      <th colspan=\"8\" halign=\"left\">user_id</th>\n",
              "      <th colspan=\"8\" halign=\"left\">converted</th>\n",
              "      <th colspan=\"8\" halign=\"left\">revenue</th>\n",
              "    </tr>\n",
              "    <tr>\n",
              "      <th></th>\n",
              "      <th>count</th>\n",
              "      <th>mean</th>\n",
              "      <th>std</th>\n",
              "      <th>min</th>\n",
              "      <th>25%</th>\n",
              "      <th>50%</th>\n",
              "      <th>75%</th>\n",
              "      <th>max</th>\n",
              "      <th>count</th>\n",
              "      <th>mean</th>\n",
              "      <th>std</th>\n",
              "      <th>min</th>\n",
              "      <th>25%</th>\n",
              "      <th>50%</th>\n",
              "      <th>75%</th>\n",
              "      <th>max</th>\n",
              "      <th>count</th>\n",
              "      <th>mean</th>\n",
              "      <th>std</th>\n",
              "      <th>min</th>\n",
              "      <th>25%</th>\n",
              "      <th>50%</th>\n",
              "      <th>75%</th>\n",
              "      <th>max</th>\n",
              "    </tr>\n",
              "    <tr>\n",
              "      <th>group</th>\n",
              "      <th></th>\n",
              "      <th></th>\n",
              "      <th></th>\n",
              "      <th></th>\n",
              "      <th></th>\n",
              "      <th></th>\n",
              "      <th></th>\n",
              "      <th></th>\n",
              "      <th></th>\n",
              "      <th></th>\n",
              "      <th></th>\n",
              "      <th></th>\n",
              "      <th></th>\n",
              "      <th></th>\n",
              "      <th></th>\n",
              "      <th></th>\n",
              "      <th></th>\n",
              "      <th></th>\n",
              "      <th></th>\n",
              "      <th></th>\n",
              "      <th></th>\n",
              "      <th></th>\n",
              "      <th></th>\n",
              "      <th></th>\n",
              "    </tr>\n",
              "  </thead>\n",
              "  <tbody>\n",
              "    <tr>\n",
              "      <th>control</th>\n",
              "      <td>100721.0</td>\n",
              "      <td>788078.473655</td>\n",
              "      <td>91128.687949</td>\n",
              "      <td>630008.0</td>\n",
              "      <td>709377.00</td>\n",
              "      <td>788210.0</td>\n",
              "      <td>866852.00</td>\n",
              "      <td>945997.0</td>\n",
              "      <td>100721.0</td>\n",
              "      <td>0.120819</td>\n",
              "      <td>0.325918</td>\n",
              "      <td>0.0</td>\n",
              "      <td>0.0</td>\n",
              "      <td>0.0</td>\n",
              "      <td>0.0</td>\n",
              "      <td>1.0</td>\n",
              "      <td>100721.0</td>\n",
              "      <td>87.143297</td>\n",
              "      <td>102.394240</td>\n",
              "      <td>0.0</td>\n",
              "      <td>0.0</td>\n",
              "      <td>0.0</td>\n",
              "      <td>100.0</td>\n",
              "      <td>250.0</td>\n",
              "    </tr>\n",
              "    <tr>\n",
              "      <th>treatment</th>\n",
              "      <td>101052.0</td>\n",
              "      <td>787545.863189</td>\n",
              "      <td>91149.823982</td>\n",
              "      <td>630000.0</td>\n",
              "      <td>708455.75</td>\n",
              "      <td>787480.5</td>\n",
              "      <td>866311.75</td>\n",
              "      <td>945989.0</td>\n",
              "      <td>101052.0</td>\n",
              "      <td>0.119127</td>\n",
              "      <td>0.323939</td>\n",
              "      <td>0.0</td>\n",
              "      <td>0.0</td>\n",
              "      <td>0.0</td>\n",
              "      <td>0.0</td>\n",
              "      <td>1.0</td>\n",
              "      <td>101052.0</td>\n",
              "      <td>116.373253</td>\n",
              "      <td>102.672435</td>\n",
              "      <td>0.0</td>\n",
              "      <td>0.0</td>\n",
              "      <td>100.0</td>\n",
              "      <td>250.0</td>\n",
              "      <td>250.0</td>\n",
              "    </tr>\n",
              "  </tbody>\n",
              "</table>\n",
              "</div>\n",
              "      <button class=\"colab-df-convert\" onclick=\"convertToInteractive('df-13307b3e-9f77-4741-8692-4d8124b81e97')\"\n",
              "              title=\"Convert this dataframe to an interactive table.\"\n",
              "              style=\"display:none;\">\n",
              "        \n",
              "  <svg xmlns=\"http://www.w3.org/2000/svg\" height=\"24px\"viewBox=\"0 0 24 24\"\n",
              "       width=\"24px\">\n",
              "    <path d=\"M0 0h24v24H0V0z\" fill=\"none\"/>\n",
              "    <path d=\"M18.56 5.44l.94 2.06.94-2.06 2.06-.94-2.06-.94-.94-2.06-.94 2.06-2.06.94zm-11 1L8.5 8.5l.94-2.06 2.06-.94-2.06-.94L8.5 2.5l-.94 2.06-2.06.94zm10 10l.94 2.06.94-2.06 2.06-.94-2.06-.94-.94-2.06-.94 2.06-2.06.94z\"/><path d=\"M17.41 7.96l-1.37-1.37c-.4-.4-.92-.59-1.43-.59-.52 0-1.04.2-1.43.59L10.3 9.45l-7.72 7.72c-.78.78-.78 2.05 0 2.83L4 21.41c.39.39.9.59 1.41.59.51 0 1.02-.2 1.41-.59l7.78-7.78 2.81-2.81c.8-.78.8-2.07 0-2.86zM5.41 20L4 18.59l7.72-7.72 1.47 1.35L5.41 20z\"/>\n",
              "  </svg>\n",
              "      </button>\n",
              "      \n",
              "  <style>\n",
              "    .colab-df-container {\n",
              "      display:flex;\n",
              "      flex-wrap:wrap;\n",
              "      gap: 12px;\n",
              "    }\n",
              "\n",
              "    .colab-df-convert {\n",
              "      background-color: #E8F0FE;\n",
              "      border: none;\n",
              "      border-radius: 50%;\n",
              "      cursor: pointer;\n",
              "      display: none;\n",
              "      fill: #1967D2;\n",
              "      height: 32px;\n",
              "      padding: 0 0 0 0;\n",
              "      width: 32px;\n",
              "    }\n",
              "\n",
              "    .colab-df-convert:hover {\n",
              "      background-color: #E2EBFA;\n",
              "      box-shadow: 0px 1px 2px rgba(60, 64, 67, 0.3), 0px 1px 3px 1px rgba(60, 64, 67, 0.15);\n",
              "      fill: #174EA6;\n",
              "    }\n",
              "\n",
              "    [theme=dark] .colab-df-convert {\n",
              "      background-color: #3B4455;\n",
              "      fill: #D2E3FC;\n",
              "    }\n",
              "\n",
              "    [theme=dark] .colab-df-convert:hover {\n",
              "      background-color: #434B5C;\n",
              "      box-shadow: 0px 1px 3px 1px rgba(0, 0, 0, 0.15);\n",
              "      filter: drop-shadow(0px 1px 2px rgba(0, 0, 0, 0.3));\n",
              "      fill: #FFFFFF;\n",
              "    }\n",
              "  </style>\n",
              "\n",
              "      <script>\n",
              "        const buttonEl =\n",
              "          document.querySelector('#df-13307b3e-9f77-4741-8692-4d8124b81e97 button.colab-df-convert');\n",
              "        buttonEl.style.display =\n",
              "          google.colab.kernel.accessAllowed ? 'block' : 'none';\n",
              "\n",
              "        async function convertToInteractive(key) {\n",
              "          const element = document.querySelector('#df-13307b3e-9f77-4741-8692-4d8124b81e97');\n",
              "          const dataTable =\n",
              "            await google.colab.kernel.invokeFunction('convertToInteractive',\n",
              "                                                     [key], {});\n",
              "          if (!dataTable) return;\n",
              "\n",
              "          const docLinkHtml = 'Like what you see? Visit the ' +\n",
              "            '<a target=\"_blank\" href=https://colab.research.google.com/notebooks/data_table.ipynb>data table notebook</a>'\n",
              "            + ' to learn more about interactive tables.';\n",
              "          element.innerHTML = '';\n",
              "          dataTable['output_type'] = 'display_data';\n",
              "          await google.colab.output.renderOutput(dataTable, element);\n",
              "          const docLink = document.createElement('div');\n",
              "          docLink.innerHTML = docLinkHtml;\n",
              "          element.appendChild(docLink);\n",
              "        }\n",
              "      </script>\n",
              "    </div>\n",
              "  </div>\n",
              "  "
            ],
            "text/plain": [
              "            user_id                               ... revenue              \n",
              "              count           mean           std  ...     50%    75%    max\n",
              "group                                             ...                      \n",
              "control    100721.0  788078.473655  91128.687949  ...     0.0  100.0  250.0\n",
              "treatment  101052.0  787545.863189  91149.823982  ...   100.0  250.0  250.0\n",
              "\n",
              "[2 rows x 24 columns]"
            ]
          },
          "metadata": {},
          "execution_count": 11
        }
      ],
      "source": [
        "df_grp = df.groupby('group')\n",
        "df_grp.describe()"
      ]
    },
    {
      "cell_type": "markdown",
      "metadata": {
        "id": "BB1aqoKD-ltZ"
      },
      "source": [
        "Ответы на остальные вопросы можно найти, например, так:"
      ]
    },
    {
      "cell_type": "code",
      "source": [
        "mismatch_1 = df.query(\"group == 'treatment' and converted == 1\")\n",
        "print(\"Из тестовой группы {}\".format(len(df[df['group'] == 'treatment'])) + \" перешли {}\".format(len(mismatch_1)) + \" пользователей\")\n",
        "\n",
        "mismatch_2 = df.query(\"group == 'control' and converted == 1\")\n",
        "print(\"Из контрольной группы {}\".format(len(df[df['group'] == 'control'])) + \"перешли  {}\".format(len(mismatch_2)) + \" пользователей\")"
      ],
      "metadata": {
        "colab": {
          "base_uri": "https://localhost:8080/"
        },
        "id": "_Shw2lVDhP-U",
        "outputId": "dab36af4-5f14-4aaf-c01e-88c0c69ca3b8"
      },
      "execution_count": null,
      "outputs": [
        {
          "output_type": "stream",
          "name": "stdout",
          "text": [
            "Из тестовой группы 101052 перешли 12038 пользователей\n",
            "Из контрольной группы 100721перешли  12169 пользователей\n"
          ]
        }
      ]
    },
    {
      "cell_type": "code",
      "source": [
        "pers_1 = (len(df[df['group'] == 'treatment'])/100)\n",
        "len(mismatch_1)/pers"
      ],
      "metadata": {
        "colab": {
          "base_uri": "https://localhost:8080/"
        },
        "id": "XNWCbejRifcn",
        "outputId": "f7c7172d-ce1d-4a63-f745-10e3dfad7158"
      },
      "execution_count": null,
      "outputs": [
        {
          "output_type": "execute_result",
          "data": {
            "text/plain": [
              "11.912678620908048"
            ]
          },
          "metadata": {},
          "execution_count": 18
        }
      ]
    },
    {
      "cell_type": "code",
      "source": [
        "pers_2 = (len(df[df['group'] == 'control'])/100)\n",
        "len(mismatch_2)/pers_2"
      ],
      "metadata": {
        "colab": {
          "base_uri": "https://localhost:8080/"
        },
        "id": "T9ru-7V7ixdV",
        "outputId": "758f8879-0269-4f1c-83bb-d59bbceb0edb"
      },
      "execution_count": null,
      "outputs": [
        {
          "output_type": "execute_result",
          "data": {
            "text/plain": [
              "12.081889576155916"
            ]
          },
          "metadata": {},
          "execution_count": 19
        }
      ]
    },
    {
      "cell_type": "code",
      "execution_count": null,
      "metadata": {
        "colab": {
          "base_uri": "https://localhost:8080/"
        },
        "id": "2q4mHg1y-lta",
        "outputId": "74d44098-f221-46b0-d33d-700107cdde03"
      },
      "outputs": [
        {
          "output_type": "stream",
          "name": "stdout",
          "text": [
            "Соотношение размеров тестовой и контрольной групп: 1.003286305735646\n",
            "Вероятность, что новый пользователь будет направлен на версию со старым дизайном: 0.5008202286728155\n",
            "Вероятность, что новый пользователь будет направлен на версию с новым дизайном: 0.4991797713271845\n"
          ]
        }
      ],
      "source": [
        "#объем тестовой группы\n",
        "n_rows_treat = len(df[df['group'] == 'treatment'])\n",
        "\n",
        "#объем контрольной группы\n",
        "n_rows_contr = n_rows-n_rows_treat\n",
        "\n",
        "print(\"Соотношение размеров тестовой и контрольной групп: {}\".format(n_rows_treat/n_rows_contr))\n",
        "\n",
        "print(\"Вероятность, что новый пользователь будет направлен на версию со старым дизайном: {}\".format(n_rows_treat/n_rows))\n",
        "print(\"Вероятность, что новый пользователь будет направлен на версию с новым дизайном: {}\".format(n_rows_contr/n_rows))\n"
      ]
    },
    {
      "cell_type": "markdown",
      "source": [
        "Предварительно данные о конверсии в обеих группах одинаковы, можно лишь сделать вывод, что дизайн не повлиял на принятие решения пользователем."
      ],
      "metadata": {
        "id": "b6c--4RMi6H9"
      }
    },
    {
      "cell_type": "markdown",
      "metadata": {
        "id": "63ZFf2FT-ltb"
      },
      "source": [
        "<a id='si1'></a>\n",
        "#### Формулировка рабочей гипотезы"
      ]
    },
    {
      "cell_type": "markdown",
      "metadata": {
        "id": "76-2Q9oh-ltb"
      },
      "source": [
        "Рабочая гипотеза в нашем случае может быть сформулирована, например, так: \"Конверсия сайта со старым дизайном не меньше, чем с новым\""
      ]
    },
    {
      "cell_type": "markdown",
      "metadata": {
        "id": "UTPeiEN1-ltb"
      },
      "source": [
        "<a id='si2'></a>\n",
        "#### Формальное описание нулевой и альтернативной гипотез"
      ]
    },
    {
      "cell_type": "markdown",
      "metadata": {
        "id": "41QMxujG-ltb"
      },
      "source": [
        "$H_{0}$ : $\\theta_{new}$ <= $\\theta_{old}$ \n",
        "\n",
        "$H_{1}$ : $\\theta_{new}$ > $\\theta_{old}$ "
      ]
    },
    {
      "cell_type": "markdown",
      "metadata": {
        "id": "x4saRv3C-ltc"
      },
      "source": [
        "<a id='si4'></a>\n",
        "#### Проведение вычислений. $Z$-критерий."
      ]
    },
    {
      "cell_type": "code",
      "execution_count": null,
      "metadata": {
        "colab": {
          "base_uri": "https://localhost:8080/"
        },
        "id": "VpV4OkX2-ltc",
        "outputId": "4c849310-2e9b-4b1f-9db2-fb4c2375997b"
      },
      "outputs": [
        {
          "output_type": "stream",
          "name": "stderr",
          "text": [
            "/usr/local/lib/python3.7/dist-packages/statsmodels/tools/_testing.py:19: FutureWarning: pandas.util.testing is deprecated. Use the functions in the public API at pandas.testing instead.\n",
            "  import pandas.util.testing as tm\n"
          ]
        },
        {
          "output_type": "stream",
          "name": "stdout",
          "text": [
            "Z-статистика=-1.1696127210287675,  p_value=0.8789215721497121\n"
          ]
        }
      ],
      "source": [
        "#Z-статистика\n",
        "import statsmodels.api as sm\n",
        "import statsmodels\n",
        "\n",
        "convert_contr = sum(df.query(\"group == 'control'\")['converted'])\n",
        "convert_treat = sum(df.query(\"group == 'treatment'\")['converted'])\n",
        "\n",
        "z_score, p_value = sm.stats.proportions_ztest([convert_treat, convert_contr], [n_rows_treat, n_rows_contr], \n",
        "                                              alternative='larger')\n",
        "\n",
        "print(\"Z-статистика={},  p_value={}\".format(z_score, p_value))\n"
      ]
    },
    {
      "cell_type": "markdown",
      "metadata": {
        "id": "tvMHsAQndUyE"
      },
      "source": [
        "#### Проведение вычислений. $T$-test."
      ]
    },
    {
      "cell_type": "code",
      "execution_count": null,
      "metadata": {
        "id": "HzNHDyrpdUyE"
      },
      "outputs": [],
      "source": [
        "t_score, p_value, _ = statsmodels.stats.weightstats.ttest_ind(df.query(\"group == 'treatment'\")['converted'],\n",
        "                                                              df.query(\"group == 'control'\")['converted'],\n",
        "                                                              alternative=\"larger\",\n",
        "                                                              usevar='unequal')"
      ]
    },
    {
      "cell_type": "code",
      "execution_count": null,
      "metadata": {
        "id": "ScLgt-vVdUyE",
        "outputId": "d87eb935-58b7-4c4b-96d5-438156b1d6cc"
      },
      "outputs": [
        {
          "name": "stdout",
          "output_type": "stream",
          "text": [
            "T-статистика=-1.2369191070650962,  p_value=0.8919409489056577\n"
          ]
        }
      ],
      "source": [
        "print(\"T-статистика={},  p_value={}\".format(t_score, p_value))"
      ]
    },
    {
      "cell_type": "markdown",
      "metadata": {
        "id": "Agvu4kAfdUyE"
      },
      "source": [
        "#### Проведение вычислений. $Mann–Whitney$-test."
      ]
    },
    {
      "cell_type": "code",
      "execution_count": null,
      "metadata": {
        "id": "qCZ7e5jRdUyE"
      },
      "outputs": [],
      "source": [
        "w_score, p_value = scipy.stats.mannwhitneyu(df.query(\"group == 'treatment'\")['converted'], \n",
        "                         df.query(\"group == 'control'\")['converted'],\n",
        "                         alternative=\"greater\")"
      ]
    },
    {
      "cell_type": "code",
      "execution_count": null,
      "metadata": {
        "colab": {
          "base_uri": "https://localhost:8080/"
        },
        "id": "xuStR5IWdUyE",
        "outputId": "2ebc4cb1-f3f7-4c9d-a221-3710a3d7b7c4"
      },
      "outputs": [
        {
          "output_type": "stream",
          "name": "stdout",
          "text": [
            "W-статистика=5080418051.0,  p_value=0.878921002369955\n"
          ]
        }
      ],
      "source": [
        "print(\"W-статистика={},  p_value={}\".format(w_score, p_value))"
      ]
    },
    {
      "cell_type": "markdown",
      "source": [
        "Результаты расчета критериев не позволяют отвергнуть нулевую гипотезу (z-критерий меньше мат.ожидания распределения, t-статистика меньше соответствующего квантиля для вероятности в 95%, а критерий Манна-Уитни превышает табличные значения)"
      ],
      "metadata": {
        "id": "wSQdbEkqnY8E"
      }
    },
    {
      "cell_type": "markdown",
      "metadata": {
        "id": "03JQLOJ2-ltd"
      },
      "source": [
        "<a id='m12'></a>\n",
        "### Ошибки первого и второго рода"
      ]
    },
    {
      "cell_type": "markdown",
      "metadata": {
        "id": "yTDRFQb3-lte"
      },
      "source": [
        "|  | | | |\n",
        "|----------|:---------|:--------|:---------|\n",
        "|  | | \tВерная гипотеза: | |\n",
        "|  |     | $H_0$   | $H_1$    |\n",
        "| Результат применения критерия: | $H_0$   |$H_0$ верно принята  |$H_0$ неверно принята (ошибка II рода)  |  \n",
        "|  |$H_1$   |$H_0$ неверно отвергнута(ошибка I рода)  | $H_0$ верно отвергнута   |\n",
        "\n"
      ]
    },
    {
      "cell_type": "markdown",
      "metadata": {
        "id": "ovm5c6YYdUyF"
      },
      "source": [
        "## bootstrap  \n",
        "Сделаем стат выводы при помощи bootstrap-а"
      ]
    },
    {
      "cell_type": "code",
      "execution_count": null,
      "metadata": {
        "colab": {
          "base_uri": "https://localhost:8080/",
          "height": 206
        },
        "id": "-h3sIaeSdUyF",
        "outputId": "6fd4f039-0bb3-4fde-bb23-a51132f213c2"
      },
      "outputs": [
        {
          "output_type": "execute_result",
          "data": {
            "text/html": [
              "\n",
              "  <div id=\"df-1d804431-1e3b-4196-a629-b7489b28b9a8\">\n",
              "    <div class=\"colab-df-container\">\n",
              "      <div>\n",
              "<style scoped>\n",
              "    .dataframe tbody tr th:only-of-type {\n",
              "        vertical-align: middle;\n",
              "    }\n",
              "\n",
              "    .dataframe tbody tr th {\n",
              "        vertical-align: top;\n",
              "    }\n",
              "\n",
              "    .dataframe thead th {\n",
              "        text-align: right;\n",
              "    }\n",
              "</style>\n",
              "<table border=\"1\" class=\"dataframe\">\n",
              "  <thead>\n",
              "    <tr style=\"text-align: right;\">\n",
              "      <th></th>\n",
              "      <th>user_id</th>\n",
              "      <th>timestamp</th>\n",
              "      <th>group</th>\n",
              "      <th>landing_page</th>\n",
              "      <th>converted</th>\n",
              "      <th>revenue</th>\n",
              "    </tr>\n",
              "  </thead>\n",
              "  <tbody>\n",
              "    <tr>\n",
              "      <th>0</th>\n",
              "      <td>851104</td>\n",
              "      <td>2017-01-21 22:11:48.556739</td>\n",
              "      <td>control</td>\n",
              "      <td>old_page</td>\n",
              "      <td>0</td>\n",
              "      <td>0</td>\n",
              "    </tr>\n",
              "    <tr>\n",
              "      <th>1</th>\n",
              "      <td>804228</td>\n",
              "      <td>2017-01-12 08:01:45.159739</td>\n",
              "      <td>control</td>\n",
              "      <td>old_page</td>\n",
              "      <td>0</td>\n",
              "      <td>0</td>\n",
              "    </tr>\n",
              "    <tr>\n",
              "      <th>2</th>\n",
              "      <td>661590</td>\n",
              "      <td>2017-01-11 16:55:06.154213</td>\n",
              "      <td>treatment</td>\n",
              "      <td>new_page</td>\n",
              "      <td>0</td>\n",
              "      <td>100</td>\n",
              "    </tr>\n",
              "    <tr>\n",
              "      <th>3</th>\n",
              "      <td>853541</td>\n",
              "      <td>2017-01-08 18:28:03.143765</td>\n",
              "      <td>treatment</td>\n",
              "      <td>new_page</td>\n",
              "      <td>0</td>\n",
              "      <td>0</td>\n",
              "    </tr>\n",
              "    <tr>\n",
              "      <th>4</th>\n",
              "      <td>864975</td>\n",
              "      <td>2017-01-21 01:52:26.210827</td>\n",
              "      <td>control</td>\n",
              "      <td>old_page</td>\n",
              "      <td>1</td>\n",
              "      <td>250</td>\n",
              "    </tr>\n",
              "  </tbody>\n",
              "</table>\n",
              "</div>\n",
              "      <button class=\"colab-df-convert\" onclick=\"convertToInteractive('df-1d804431-1e3b-4196-a629-b7489b28b9a8')\"\n",
              "              title=\"Convert this dataframe to an interactive table.\"\n",
              "              style=\"display:none;\">\n",
              "        \n",
              "  <svg xmlns=\"http://www.w3.org/2000/svg\" height=\"24px\"viewBox=\"0 0 24 24\"\n",
              "       width=\"24px\">\n",
              "    <path d=\"M0 0h24v24H0V0z\" fill=\"none\"/>\n",
              "    <path d=\"M18.56 5.44l.94 2.06.94-2.06 2.06-.94-2.06-.94-.94-2.06-.94 2.06-2.06.94zm-11 1L8.5 8.5l.94-2.06 2.06-.94-2.06-.94L8.5 2.5l-.94 2.06-2.06.94zm10 10l.94 2.06.94-2.06 2.06-.94-2.06-.94-.94-2.06-.94 2.06-2.06.94z\"/><path d=\"M17.41 7.96l-1.37-1.37c-.4-.4-.92-.59-1.43-.59-.52 0-1.04.2-1.43.59L10.3 9.45l-7.72 7.72c-.78.78-.78 2.05 0 2.83L4 21.41c.39.39.9.59 1.41.59.51 0 1.02-.2 1.41-.59l7.78-7.78 2.81-2.81c.8-.78.8-2.07 0-2.86zM5.41 20L4 18.59l7.72-7.72 1.47 1.35L5.41 20z\"/>\n",
              "  </svg>\n",
              "      </button>\n",
              "      \n",
              "  <style>\n",
              "    .colab-df-container {\n",
              "      display:flex;\n",
              "      flex-wrap:wrap;\n",
              "      gap: 12px;\n",
              "    }\n",
              "\n",
              "    .colab-df-convert {\n",
              "      background-color: #E8F0FE;\n",
              "      border: none;\n",
              "      border-radius: 50%;\n",
              "      cursor: pointer;\n",
              "      display: none;\n",
              "      fill: #1967D2;\n",
              "      height: 32px;\n",
              "      padding: 0 0 0 0;\n",
              "      width: 32px;\n",
              "    }\n",
              "\n",
              "    .colab-df-convert:hover {\n",
              "      background-color: #E2EBFA;\n",
              "      box-shadow: 0px 1px 2px rgba(60, 64, 67, 0.3), 0px 1px 3px 1px rgba(60, 64, 67, 0.15);\n",
              "      fill: #174EA6;\n",
              "    }\n",
              "\n",
              "    [theme=dark] .colab-df-convert {\n",
              "      background-color: #3B4455;\n",
              "      fill: #D2E3FC;\n",
              "    }\n",
              "\n",
              "    [theme=dark] .colab-df-convert:hover {\n",
              "      background-color: #434B5C;\n",
              "      box-shadow: 0px 1px 3px 1px rgba(0, 0, 0, 0.15);\n",
              "      filter: drop-shadow(0px 1px 2px rgba(0, 0, 0, 0.3));\n",
              "      fill: #FFFFFF;\n",
              "    }\n",
              "  </style>\n",
              "\n",
              "      <script>\n",
              "        const buttonEl =\n",
              "          document.querySelector('#df-1d804431-1e3b-4196-a629-b7489b28b9a8 button.colab-df-convert');\n",
              "        buttonEl.style.display =\n",
              "          google.colab.kernel.accessAllowed ? 'block' : 'none';\n",
              "\n",
              "        async function convertToInteractive(key) {\n",
              "          const element = document.querySelector('#df-1d804431-1e3b-4196-a629-b7489b28b9a8');\n",
              "          const dataTable =\n",
              "            await google.colab.kernel.invokeFunction('convertToInteractive',\n",
              "                                                     [key], {});\n",
              "          if (!dataTable) return;\n",
              "\n",
              "          const docLinkHtml = 'Like what you see? Visit the ' +\n",
              "            '<a target=\"_blank\" href=https://colab.research.google.com/notebooks/data_table.ipynb>data table notebook</a>'\n",
              "            + ' to learn more about interactive tables.';\n",
              "          element.innerHTML = '';\n",
              "          dataTable['output_type'] = 'display_data';\n",
              "          await google.colab.output.renderOutput(dataTable, element);\n",
              "          const docLink = document.createElement('div');\n",
              "          docLink.innerHTML = docLinkHtml;\n",
              "          element.appendChild(docLink);\n",
              "        }\n",
              "      </script>\n",
              "    </div>\n",
              "  </div>\n",
              "  "
            ],
            "text/plain": [
              "   user_id                   timestamp  ... converted revenue\n",
              "0   851104  2017-01-21 22:11:48.556739  ...         0       0\n",
              "1   804228  2017-01-12 08:01:45.159739  ...         0       0\n",
              "2   661590  2017-01-11 16:55:06.154213  ...         0     100\n",
              "3   853541  2017-01-08 18:28:03.143765  ...         0       0\n",
              "4   864975  2017-01-21 01:52:26.210827  ...         1     250\n",
              "\n",
              "[5 rows x 6 columns]"
            ]
          },
          "metadata": {},
          "execution_count": 24
        }
      ],
      "source": [
        "df.head()"
      ]
    },
    {
      "cell_type": "code",
      "execution_count": null,
      "metadata": {
        "colab": {
          "base_uri": "https://localhost:8080/",
          "height": 265
        },
        "id": "tTfOtxepdUyF",
        "outputId": "65433b68-f791-4f50-896e-ca31dcc9fe55"
      },
      "outputs": [
        {
          "output_type": "display_data",
          "data": {
            "image/png": "[encoded data removed]",
            "text/plain": [
              "<Figure size 432x288 with 1 Axes>"
            ]
          },
          "metadata": {
            "needs_background": "light"
          }
        }
      ],
      "source": [
        "plt.hist(df.loc[df['group']=='treatment', 'converted']);"
      ]
    },
    {
      "cell_type": "code",
      "execution_count": null,
      "metadata": {
        "colab": {
          "base_uri": "https://localhost:8080/",
          "height": 265
        },
        "id": "-0D3feYFdUyF",
        "outputId": "ab606cd1-4258-49b4-cbd2-a9f1a73d132d"
      },
      "outputs": [
        {
          "output_type": "display_data",
          "data": {
            "image/png": "[encoded data removed]",
            "text/plain": [
              "<Figure size 432x288 with 1 Axes>"
            ]
          },
          "metadata": {
            "needs_background": "light"
          }
        }
      ],
      "source": [
        "plt.hist(df.loc[df['group']=='control', 'converted']);"
      ]
    },
    {
      "cell_type": "code",
      "execution_count": null,
      "metadata": {
        "id": "Jd4QPNwFdUyF"
      },
      "outputs": [],
      "source": [
        "b = df.loc[df['group']=='treatment', 'converted'].values\n",
        "a = df.loc[df['group']=='control', 'converted'].values"
      ]
    },
    {
      "cell_type": "code",
      "execution_count": null,
      "metadata": {
        "id": "D-W-Yl1odUyF"
      },
      "outputs": [],
      "source": [
        "from sklearn.utils import resample\n",
        "\n",
        "a_means = []\n",
        "b_means = []\n",
        "\n",
        "for i in range(10000):\n",
        "    a_boot = resample(a, replace=True, n_samples=len(a))\n",
        "    b_boot = resample(b, replace=True, n_samples=len(b))\n",
        "    \n",
        "    a_means.append(a_boot.mean())\n",
        "    b_means.append(b_boot.mean())\n",
        "    \n",
        "a_means = np.array(a_means)\n",
        "b_means = np.array(b_means)"
      ]
    },
    {
      "cell_type": "code",
      "execution_count": null,
      "metadata": {
        "colab": {
          "base_uri": "https://localhost:8080/",
          "height": 265
        },
        "id": "34tHdMk6dUyF",
        "outputId": "a76367f1-b009-42c6-de25-335201bc0eb2"
      },
      "outputs": [
        {
          "output_type": "display_data",
          "data": {
            "image/png": "[encoded data removed]",
            "text/plain": [
              "<Figure size 432x288 with 1 Axes>"
            ]
          },
          "metadata": {
            "needs_background": "light"
          }
        }
      ],
      "source": [
        "plt.hist(a_means, label='A conv', alpha=0.5, bins=100)\n",
        "plt.hist(b_means, label='B conv', alpha=0.5, bins=100)\n",
        "\n",
        "plt.legend()\n",
        "plt.show()"
      ]
    },
    {
      "cell_type": "code",
      "execution_count": null,
      "metadata": {
        "colab": {
          "base_uri": "https://localhost:8080/"
        },
        "id": "ImrwobmMdUyF",
        "outputId": "288d9057-39b2-49c5-c781-466b5cdc7a1a"
      },
      "outputs": [
        {
          "output_type": "execute_result",
          "data": {
            "text/plain": [
              "(0.11880342728924455, 0.12281450740163422)"
            ]
          },
          "metadata": {},
          "execution_count": 30
        }
      ],
      "source": [
        "# доверительный интервал\n",
        "np.percentile(a_means, 2.5), np.percentile(a_means, 97.5)"
      ]
    },
    {
      "cell_type": "code",
      "execution_count": null,
      "metadata": {
        "colab": {
          "base_uri": "https://localhost:8080/",
          "height": 265
        },
        "id": "TaF88d1_dUyG",
        "outputId": "3c579dd9-f44c-4e88-c0dc-f26578f942a2"
      },
      "outputs": [
        {
          "output_type": "display_data",
          "data": {
            "image/png": "[encoded data removed]",
            "text/plain": [
              "<Figure size 432x288 with 1 Axes>"
            ]
          },
          "metadata": {
            "needs_background": "light"
          }
        }
      ],
      "source": [
        "plt.hist(a_means - b_means, bins=100)\n",
        "plt.show()"
      ]
    },
    {
      "cell_type": "code",
      "execution_count": null,
      "metadata": {
        "colab": {
          "base_uri": "https://localhost:8080/"
        },
        "id": "b72hMjAIdUyG",
        "outputId": "380b4644-82af-4c7c-8678-bbf43ed0a16a"
      },
      "outputs": [
        {
          "output_type": "execute_result",
          "data": {
            "text/plain": [
              "0.8798"
            ]
          },
          "metadata": {},
          "execution_count": 32
        }
      ],
      "source": [
        "# сделаем оценку на p_value\n",
        "dff = a_means - b_means\n",
        "\n",
        "len(dff[dff>=0])/len(dff)"
      ]
    }
  ],
  "metadata": {
    "kernelspec": {
      "display_name": "Python 3",
      "language": "python",
      "name": "python3"
    },
    "language_info": {
      "codemirror_mode": {
        "name": "ipython",
        "version": 3
      },
      "file_extension": ".py",
      "mimetype": "text/x-python",
      "name": "python",
      "nbconvert_exporter": "python",
      "pygments_lexer": "ipython3",
      "version": "3.8.3"
    },
    "colab": {
      "name": "HW8.ipynb",
      "provenance": []
    }
  },
  "nbformat": 4,
  "nbformat_minor": 0
}