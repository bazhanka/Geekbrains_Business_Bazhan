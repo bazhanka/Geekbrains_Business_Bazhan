{
  "cells": [
    {
      "cell_type": "markdown",
      "metadata": {
        "id": "TuDEDf2D3BFx"
      },
      "source": [
        "### Практика\n",
        "\n",
        "### Case 1"
      ]
    },
    {
      "cell_type": "markdown",
      "metadata": {
        "id": "qDDVcPzn3BFx"
      },
      "source": [
        "Давайте поработаем с набором данных с платформы kaggle https://www.kaggle.com/adammaus/predicting-churn-for-bank-customers по оттоку клиентов банка"
      ]
    },
    {
      "cell_type": "code",
      "execution_count": 30,
      "metadata": {
        "id": "uxEQBAvI3BFx"
      },
      "outputs": [],
      "source": [
        "import pandas as pd\n",
        "import numpy as np\n",
        "from sklearn.pipeline import Pipeline, make_pipeline\n",
        "from sklearn.base import BaseEstimator, TransformerMixin\n",
        "from sklearn.linear_model import LogisticRegression\n",
        "from sklearn.model_selection import train_test_split\n",
        "#from sklearn.feature_extraction.text import TfidfVectorizer\n",
        "import itertools\n",
        "\n",
        "import matplotlib.pyplot as plt\n",
        "\n",
        "%matplotlib inline"
      ]
    },
    {
      "cell_type": "code",
      "source": [
        "from google.colab import drive\n",
        "drive.mount('/content/drive')"
      ],
      "metadata": {
        "colab": {
          "base_uri": "https://localhost:8080/"
        },
        "id": "hrcGVE8a3Vke",
        "outputId": "29e8858b-609a-4f7a-c33f-fe0fdce6a2c6"
      },
      "execution_count": 31,
      "outputs": [
        {
          "output_type": "stream",
          "name": "stdout",
          "text": [
            "Drive already mounted at /content/drive; to attempt to forcibly remount, call drive.mount(\"/content/drive\", force_remount=True).\n"
          ]
        }
      ]
    },
    {
      "cell_type": "code",
      "source": [
        "data = \"/churn_data.csv\""
      ],
      "metadata": {
        "id": "My12QEml3sDr"
      },
      "execution_count": 32,
      "outputs": []
    },
    {
      "cell_type": "code",
      "execution_count": 33,
      "metadata": {
        "colab": {
          "base_uri": "https://localhost:8080/",
          "height": 207
        },
        "id": "hhu0lG1s3BFy",
        "outputId": "15c6fa20-c891-40c1-ca9b-310f0119212a"
      },
      "outputs": [
        {
          "output_type": "execute_result",
          "data": {
            "text/html": [
              "\n",
              "  <div id=\"df-faab44b4-e08b-4452-a4bf-595729d0988e\">\n",
              "    <div class=\"colab-df-container\">\n",
              "      <div>\n",
              "<style scoped>\n",
              "    .dataframe tbody tr th:only-of-type {\n",
              "        vertical-align: middle;\n",
              "    }\n",
              "\n",
              "    .dataframe tbody tr th {\n",
              "        vertical-align: top;\n",
              "    }\n",
              "\n",
              "    .dataframe thead th {\n",
              "        text-align: right;\n",
              "    }\n",
              "</style>\n",
              "<table border=\"1\" class=\"dataframe\">\n",
              "  <thead>\n",
              "    <tr style=\"text-align: right;\">\n",
              "      <th></th>\n",
              "      <th>RowNumber</th>\n",
              "      <th>CustomerId</th>\n",
              "      <th>Surname</th>\n",
              "      <th>CreditScore</th>\n",
              "      <th>Geography</th>\n",
              "      <th>Gender</th>\n",
              "      <th>Age</th>\n",
              "      <th>Tenure</th>\n",
              "      <th>Balance</th>\n",
              "      <th>NumOfProducts</th>\n",
              "      <th>HasCrCard</th>\n",
              "      <th>IsActiveMember</th>\n",
              "      <th>EstimatedSalary</th>\n",
              "      <th>Exited</th>\n",
              "    </tr>\n",
              "  </thead>\n",
              "  <tbody>\n",
              "    <tr>\n",
              "      <th>0</th>\n",
              "      <td>1</td>\n",
              "      <td>15634602</td>\n",
              "      <td>Hargrave</td>\n",
              "      <td>619</td>\n",
              "      <td>France</td>\n",
              "      <td>Female</td>\n",
              "      <td>42</td>\n",
              "      <td>2</td>\n",
              "      <td>0.00</td>\n",
              "      <td>1</td>\n",
              "      <td>1</td>\n",
              "      <td>1</td>\n",
              "      <td>101348.88</td>\n",
              "      <td>1</td>\n",
              "    </tr>\n",
              "    <tr>\n",
              "      <th>1</th>\n",
              "      <td>2</td>\n",
              "      <td>15647311</td>\n",
              "      <td>Hill</td>\n",
              "      <td>608</td>\n",
              "      <td>Spain</td>\n",
              "      <td>Female</td>\n",
              "      <td>41</td>\n",
              "      <td>1</td>\n",
              "      <td>83807.86</td>\n",
              "      <td>1</td>\n",
              "      <td>0</td>\n",
              "      <td>1</td>\n",
              "      <td>112542.58</td>\n",
              "      <td>0</td>\n",
              "    </tr>\n",
              "    <tr>\n",
              "      <th>2</th>\n",
              "      <td>3</td>\n",
              "      <td>15619304</td>\n",
              "      <td>Onio</td>\n",
              "      <td>502</td>\n",
              "      <td>France</td>\n",
              "      <td>Female</td>\n",
              "      <td>42</td>\n",
              "      <td>8</td>\n",
              "      <td>159660.80</td>\n",
              "      <td>3</td>\n",
              "      <td>1</td>\n",
              "      <td>0</td>\n",
              "      <td>113931.57</td>\n",
              "      <td>1</td>\n",
              "    </tr>\n",
              "  </tbody>\n",
              "</table>\n",
              "</div>\n",
              "      <button class=\"colab-df-convert\" onclick=\"convertToInteractive('df-faab44b4-e08b-4452-a4bf-595729d0988e')\"\n",
              "              title=\"Convert this dataframe to an interactive table.\"\n",
              "              style=\"display:none;\">\n",
              "        \n",
              "  <svg xmlns=\"http://www.w3.org/2000/svg\" height=\"24px\"viewBox=\"0 0 24 24\"\n",
              "       width=\"24px\">\n",
              "    <path d=\"M0 0h24v24H0V0z\" fill=\"none\"/>\n",
              "    <path d=\"M18.56 5.44l.94 2.06.94-2.06 2.06-.94-2.06-.94-.94-2.06-.94 2.06-2.06.94zm-11 1L8.5 8.5l.94-2.06 2.06-.94-2.06-.94L8.5 2.5l-.94 2.06-2.06.94zm10 10l.94 2.06.94-2.06 2.06-.94-2.06-.94-.94-2.06-.94 2.06-2.06.94z\"/><path d=\"M17.41 7.96l-1.37-1.37c-.4-.4-.92-.59-1.43-.59-.52 0-1.04.2-1.43.59L10.3 9.45l-7.72 7.72c-.78.78-.78 2.05 0 2.83L4 21.41c.39.39.9.59 1.41.59.51 0 1.02-.2 1.41-.59l7.78-7.78 2.81-2.81c.8-.78.8-2.07 0-2.86zM5.41 20L4 18.59l7.72-7.72 1.47 1.35L5.41 20z\"/>\n",
              "  </svg>\n",
              "      </button>\n",
              "      \n",
              "  <style>\n",
              "    .colab-df-container {\n",
              "      display:flex;\n",
              "      flex-wrap:wrap;\n",
              "      gap: 12px;\n",
              "    }\n",
              "\n",
              "    .colab-df-convert {\n",
              "      background-color: #E8F0FE;\n",
              "      border: none;\n",
              "      border-radius: 50%;\n",
              "      cursor: pointer;\n",
              "      display: none;\n",
              "      fill: #1967D2;\n",
              "      height: 32px;\n",
              "      padding: 0 0 0 0;\n",
              "      width: 32px;\n",
              "    }\n",
              "\n",
              "    .colab-df-convert:hover {\n",
              "      background-color: #E2EBFA;\n",
              "      box-shadow: 0px 1px 2px rgba(60, 64, 67, 0.3), 0px 1px 3px 1px rgba(60, 64, 67, 0.15);\n",
              "      fill: #174EA6;\n",
              "    }\n",
              "\n",
              "    [theme=dark] .colab-df-convert {\n",
              "      background-color: #3B4455;\n",
              "      fill: #D2E3FC;\n",
              "    }\n",
              "\n",
              "    [theme=dark] .colab-df-convert:hover {\n",
              "      background-color: #434B5C;\n",
              "      box-shadow: 0px 1px 3px 1px rgba(0, 0, 0, 0.15);\n",
              "      filter: drop-shadow(0px 1px 2px rgba(0, 0, 0, 0.3));\n",
              "      fill: #FFFFFF;\n",
              "    }\n",
              "  </style>\n",
              "\n",
              "      <script>\n",
              "        const buttonEl =\n",
              "          document.querySelector('#df-faab44b4-e08b-4452-a4bf-595729d0988e button.colab-df-convert');\n",
              "        buttonEl.style.display =\n",
              "          google.colab.kernel.accessAllowed ? 'block' : 'none';\n",
              "\n",
              "        async function convertToInteractive(key) {\n",
              "          const element = document.querySelector('#df-faab44b4-e08b-4452-a4bf-595729d0988e');\n",
              "          const dataTable =\n",
              "            await google.colab.kernel.invokeFunction('convertToInteractive',\n",
              "                                                     [key], {});\n",
              "          if (!dataTable) return;\n",
              "\n",
              "          const docLinkHtml = 'Like what you see? Visit the ' +\n",
              "            '<a target=\"_blank\" href=https://colab.research.google.com/notebooks/data_table.ipynb>data table notebook</a>'\n",
              "            + ' to learn more about interactive tables.';\n",
              "          element.innerHTML = '';\n",
              "          dataTable['output_type'] = 'display_data';\n",
              "          await google.colab.output.renderOutput(dataTable, element);\n",
              "          const docLink = document.createElement('div');\n",
              "          docLink.innerHTML = docLinkHtml;\n",
              "          element.appendChild(docLink);\n",
              "        }\n",
              "      </script>\n",
              "    </div>\n",
              "  </div>\n",
              "  "
            ],
            "text/plain": [
              "   RowNumber  CustomerId   Surname  ...  IsActiveMember EstimatedSalary Exited\n",
              "0          1    15634602  Hargrave  ...               1       101348.88      1\n",
              "1          2    15647311      Hill  ...               1       112542.58      0\n",
              "2          3    15619304      Onio  ...               0       113931.57      1\n",
              "\n",
              "[3 rows x 14 columns]"
            ]
          },
          "metadata": {},
          "execution_count": 33
        }
      ],
      "source": [
        "df = pd.read_csv(data)\n",
        "df.head(3)"
      ]
    },
    {
      "cell_type": "code",
      "execution_count": null,
      "metadata": {
        "id": "sRUF-mT73BFz"
      },
      "outputs": [],
      "source": [
        "#разделим данные на train/test\n",
        "X_train, X_test, y_train, y_test = train_test_split(df, df['Exited'], random_state=0)"
      ]
    },
    {
      "cell_type": "code",
      "execution_count": 34,
      "metadata": {
        "id": "-Q_wb3a43BFz"
      },
      "outputs": [],
      "source": [
        "#соберем наш простой pipeline, но нам понадобится написать класс для выбора нужного поля\n",
        "class FeatureSelector(BaseEstimator, TransformerMixin):\n",
        "    def __init__(self, column):\n",
        "        self.column = column\n",
        "\n",
        "    def fit(self, X, y=None):\n",
        "        return self\n",
        "\n",
        "    def transform(self, X, y=None):\n",
        "        return X[self.column]\n",
        "    \n",
        "class NumberSelector(BaseEstimator, TransformerMixin):\n",
        "    \"\"\"\n",
        "    Transformer to select a single column from the data frame to perform additional transformations on\n",
        "    Use on numeric columns in the data\n",
        "    \"\"\"\n",
        "    def __init__(self, key):\n",
        "        self.key = key\n",
        "\n",
        "    def fit(self, X, y=None):\n",
        "        return self\n",
        "\n",
        "    def transform(self, X):\n",
        "        return X[[self.key]]\n",
        "    \n",
        "class OHEEncoder(BaseEstimator, TransformerMixin):\n",
        "    def __init__(self, key):\n",
        "        self.key = key\n",
        "        self.columns = []\n",
        "\n",
        "    def fit(self, X, y=None):\n",
        "        self.columns = [col for col in pd.get_dummies(X, prefix=self.key).columns]\n",
        "        return self\n",
        "\n",
        "    def transform(self, X):\n",
        "        X = pd.get_dummies(X, prefix=self.key)\n",
        "        test_columns = [col for col in X.columns]\n",
        "        for col_ in self.columns:\n",
        "            if col_ not in test_columns:\n",
        "                X[col_] = 0\n",
        "        return X[self.columns]"
      ]
    },
    {
      "cell_type": "markdown",
      "metadata": {
        "id": "S7GWV1Fa3BFz"
      },
      "source": [
        "Зададим списки признаков"
      ]
    },
    {
      "cell_type": "code",
      "execution_count": 36,
      "metadata": {
        "id": "2_ubCjK33BF0"
      },
      "outputs": [],
      "source": [
        "categorical_columns = ['Geography', 'Gender', 'Tenure', 'HasCrCard', 'IsActiveMember']\n",
        "continuous_columns = ['CreditScore', 'Age', 'Balance', 'NumOfProducts', 'EstimatedSalary']"
      ]
    },
    {
      "cell_type": "markdown",
      "metadata": {
        "id": "UJ0HX_UU3BF0"
      },
      "source": [
        "Посмотрим как это работает на примере отдельного категориального признака - Gender"
      ]
    },
    {
      "cell_type": "code",
      "execution_count": 37,
      "metadata": {
        "colab": {
          "base_uri": "https://localhost:8080/",
          "height": 143
        },
        "id": "oRbp1_Kl3BF0",
        "outputId": "9d11ad33-927b-4c6e-d762-0724805a30b9"
      },
      "outputs": [
        {
          "output_type": "execute_result",
          "data": {
            "text/html": [
              "\n",
              "  <div id=\"df-8b9249c9-ef43-497d-ae93-e9b87cf54196\">\n",
              "    <div class=\"colab-df-container\">\n",
              "      <div>\n",
              "<style scoped>\n",
              "    .dataframe tbody tr th:only-of-type {\n",
              "        vertical-align: middle;\n",
              "    }\n",
              "\n",
              "    .dataframe tbody tr th {\n",
              "        vertical-align: top;\n",
              "    }\n",
              "\n",
              "    .dataframe thead th {\n",
              "        text-align: right;\n",
              "    }\n",
              "</style>\n",
              "<table border=\"1\" class=\"dataframe\">\n",
              "  <thead>\n",
              "    <tr style=\"text-align: right;\">\n",
              "      <th></th>\n",
              "      <th>Gender_Female</th>\n",
              "      <th>Gender_Male</th>\n",
              "    </tr>\n",
              "  </thead>\n",
              "  <tbody>\n",
              "    <tr>\n",
              "      <th>9394</th>\n",
              "      <td>1</td>\n",
              "      <td>0</td>\n",
              "    </tr>\n",
              "    <tr>\n",
              "      <th>898</th>\n",
              "      <td>1</td>\n",
              "      <td>0</td>\n",
              "    </tr>\n",
              "    <tr>\n",
              "      <th>2398</th>\n",
              "      <td>1</td>\n",
              "      <td>0</td>\n",
              "    </tr>\n",
              "  </tbody>\n",
              "</table>\n",
              "</div>\n",
              "      <button class=\"colab-df-convert\" onclick=\"convertToInteractive('df-8b9249c9-ef43-497d-ae93-e9b87cf54196')\"\n",
              "              title=\"Convert this dataframe to an interactive table.\"\n",
              "              style=\"display:none;\">\n",
              "        \n",
              "  <svg xmlns=\"http://www.w3.org/2000/svg\" height=\"24px\"viewBox=\"0 0 24 24\"\n",
              "       width=\"24px\">\n",
              "    <path d=\"M0 0h24v24H0V0z\" fill=\"none\"/>\n",
              "    <path d=\"M18.56 5.44l.94 2.06.94-2.06 2.06-.94-2.06-.94-.94-2.06-.94 2.06-2.06.94zm-11 1L8.5 8.5l.94-2.06 2.06-.94-2.06-.94L8.5 2.5l-.94 2.06-2.06.94zm10 10l.94 2.06.94-2.06 2.06-.94-2.06-.94-.94-2.06-.94 2.06-2.06.94z\"/><path d=\"M17.41 7.96l-1.37-1.37c-.4-.4-.92-.59-1.43-.59-.52 0-1.04.2-1.43.59L10.3 9.45l-7.72 7.72c-.78.78-.78 2.05 0 2.83L4 21.41c.39.39.9.59 1.41.59.51 0 1.02-.2 1.41-.59l7.78-7.78 2.81-2.81c.8-.78.8-2.07 0-2.86zM5.41 20L4 18.59l7.72-7.72 1.47 1.35L5.41 20z\"/>\n",
              "  </svg>\n",
              "      </button>\n",
              "      \n",
              "  <style>\n",
              "    .colab-df-container {\n",
              "      display:flex;\n",
              "      flex-wrap:wrap;\n",
              "      gap: 12px;\n",
              "    }\n",
              "\n",
              "    .colab-df-convert {\n",
              "      background-color: #E8F0FE;\n",
              "      border: none;\n",
              "      border-radius: 50%;\n",
              "      cursor: pointer;\n",
              "      display: none;\n",
              "      fill: #1967D2;\n",
              "      height: 32px;\n",
              "      padding: 0 0 0 0;\n",
              "      width: 32px;\n",
              "    }\n",
              "\n",
              "    .colab-df-convert:hover {\n",
              "      background-color: #E2EBFA;\n",
              "      box-shadow: 0px 1px 2px rgba(60, 64, 67, 0.3), 0px 1px 3px 1px rgba(60, 64, 67, 0.15);\n",
              "      fill: #174EA6;\n",
              "    }\n",
              "\n",
              "    [theme=dark] .colab-df-convert {\n",
              "      background-color: #3B4455;\n",
              "      fill: #D2E3FC;\n",
              "    }\n",
              "\n",
              "    [theme=dark] .colab-df-convert:hover {\n",
              "      background-color: #434B5C;\n",
              "      box-shadow: 0px 1px 3px 1px rgba(0, 0, 0, 0.15);\n",
              "      filter: drop-shadow(0px 1px 2px rgba(0, 0, 0, 0.3));\n",
              "      fill: #FFFFFF;\n",
              "    }\n",
              "  </style>\n",
              "\n",
              "      <script>\n",
              "        const buttonEl =\n",
              "          document.querySelector('#df-8b9249c9-ef43-497d-ae93-e9b87cf54196 button.colab-df-convert');\n",
              "        buttonEl.style.display =\n",
              "          google.colab.kernel.accessAllowed ? 'block' : 'none';\n",
              "\n",
              "        async function convertToInteractive(key) {\n",
              "          const element = document.querySelector('#df-8b9249c9-ef43-497d-ae93-e9b87cf54196');\n",
              "          const dataTable =\n",
              "            await google.colab.kernel.invokeFunction('convertToInteractive',\n",
              "                                                     [key], {});\n",
              "          if (!dataTable) return;\n",
              "\n",
              "          const docLinkHtml = 'Like what you see? Visit the ' +\n",
              "            '<a target=\"_blank\" href=https://colab.research.google.com/notebooks/data_table.ipynb>data table notebook</a>'\n",
              "            + ' to learn more about interactive tables.';\n",
              "          element.innerHTML = '';\n",
              "          dataTable['output_type'] = 'display_data';\n",
              "          await google.colab.output.renderOutput(dataTable, element);\n",
              "          const docLink = document.createElement('div');\n",
              "          docLink.innerHTML = docLinkHtml;\n",
              "          element.appendChild(docLink);\n",
              "        }\n",
              "      </script>\n",
              "    </div>\n",
              "  </div>\n",
              "  "
            ],
            "text/plain": [
              "      Gender_Female  Gender_Male\n",
              "9394              1            0\n",
              "898               1            0\n",
              "2398              1            0"
            ]
          },
          "metadata": {},
          "execution_count": 37
        }
      ],
      "source": [
        "from sklearn.pipeline import Pipeline\n",
        "from sklearn.pipeline import FeatureUnion\n",
        "\n",
        "gender = Pipeline([\n",
        "                ('selector', FeatureSelector(column='Gender')),\n",
        "                ('ohe', OHEEncoder(key='Gender'))\n",
        "            ])\n",
        "gender.fit(X_train)\n",
        "gender.transform(X_test).head(3)"
      ]
    },
    {
      "cell_type": "code",
      "source": [
        "from sklearn.preprocessing import StandardScaler, MinMaxScaler"
      ],
      "metadata": {
        "id": "MjLItR-75gC9"
      },
      "execution_count": 45,
      "outputs": []
    },
    {
      "cell_type": "code",
      "execution_count": 126,
      "metadata": {
        "id": "L4nVHdja3BF0"
      },
      "outputs": [],
      "source": [
        "final_transformers = list()\n",
        "\n",
        "for cat_col in categorical_columns:\n",
        "    cat_transformer = Pipeline([\n",
        "                ('selector', FeatureSelector(column=cat_col)),\n",
        "                ('ohe', OHEEncoder(key=cat_col))\n",
        "            ])\n",
        "    final_transformers.append((cat_col, cat_transformer))\n",
        "    \n",
        "for cont_col in continuous_columns:\n",
        "    cont_transformer = Pipeline([\n",
        "                ('selector', NumberSelector(key=cont_col)),\n",
        "                ('scaler', StandardScaler())\n",
        "            ])\n",
        "    final_transformers.append((cont_col, cont_transformer))"
      ]
    },
    {
      "cell_type": "markdown",
      "metadata": {
        "id": "xA__s3uS3BF0"
      },
      "source": [
        "Объединим все это в единый пайплайн"
      ]
    },
    {
      "cell_type": "code",
      "execution_count": 127,
      "metadata": {
        "id": "RCCvkQ623BF0"
      },
      "outputs": [],
      "source": [
        "feats = FeatureUnion(final_transformers)\n",
        "\n",
        "feature_processing = Pipeline([('feats', feats)])"
      ]
    },
    {
      "cell_type": "markdown",
      "metadata": {
        "id": "JENp69cc3BF0"
      },
      "source": [
        "Теперь у нас есть пайплайн, который готовит признаки для моделирования.\n",
        "\n",
        "Добавим модель"
      ]
    },
    {
      "cell_type": "code",
      "execution_count": 128,
      "metadata": {
        "id": "49-HNZ4t3BF1"
      },
      "outputs": [],
      "source": [
        "from sklearn.ensemble import RandomForestClassifier\n",
        "\n",
        "pipeline_RF = Pipeline([\n",
        "    ('features',feats),\n",
        "    ('classifier', RandomForestClassifier(random_state = 42)),\n",
        "])"
      ]
    },
    {
      "cell_type": "code",
      "execution_count": 129,
      "metadata": {
        "id": "0qrpROeR3BF1"
      },
      "outputs": [],
      "source": [
        "from sklearn.ensemble import GradientBoostingClassifier\n",
        "pipeline_GB = Pipeline([\n",
        "    ('features',feats),\n",
        "    ('classifier', GradientBoostingClassifier(random_state = 42)),\n",
        "])"
      ]
    },
    {
      "cell_type": "code",
      "source": [
        "from sklearn.linear_model import LogisticRegression\n",
        "pipeline_LR = Pipeline([\n",
        "    ('features',feats),\n",
        "    ('classifier', LogisticRegression(random_state = 42)),\n",
        "])"
      ],
      "metadata": {
        "id": "PblMzFTQHEcj"
      },
      "execution_count": 130,
      "outputs": []
    },
    {
      "cell_type": "markdown",
      "metadata": {
        "id": "toJDzXoz3BF1"
      },
      "source": [
        "Обучим модель"
      ]
    },
    {
      "cell_type": "code",
      "source": [
        "pipeline_LR.fit(X_train, y_train)"
      ],
      "metadata": {
        "colab": {
          "base_uri": "https://localhost:8080/"
        },
        "id": "ncopJX2UHRrl",
        "outputId": "6c19c752-b436-4163-dc2c-3a1cd67254d7"
      },
      "execution_count": 131,
      "outputs": [
        {
          "output_type": "execute_result",
          "data": {
            "text/plain": [
              "Pipeline(steps=[('features',\n",
              "                 FeatureUnion(transformer_list=[('Geography',\n",
              "                                                 Pipeline(steps=[('selector',\n",
              "                                                                  FeatureSelector(column='Geography')),\n",
              "                                                                 ('ohe',\n",
              "                                                                  OHEEncoder(key='Geography'))])),\n",
              "                                                ('Gender',\n",
              "                                                 Pipeline(steps=[('selector',\n",
              "                                                                  FeatureSelector(column='Gender')),\n",
              "                                                                 ('ohe',\n",
              "                                                                  OHEEncoder(key='Gender'))])),\n",
              "                                                ('Tenure',\n",
              "                                                 Pipeline(steps=[('selector',\n",
              "                                                                  FeatureSelector(column='Tenu...\n",
              "                                                 Pipeline(steps=[('selector',\n",
              "                                                                  NumberSelector(key='Balance')),\n",
              "                                                                 ('scaler',\n",
              "                                                                  StandardScaler())])),\n",
              "                                                ('NumOfProducts',\n",
              "                                                 Pipeline(steps=[('selector',\n",
              "                                                                  NumberSelector(key='NumOfProducts')),\n",
              "                                                                 ('scaler',\n",
              "                                                                  StandardScaler())])),\n",
              "                                                ('EstimatedSalary',\n",
              "                                                 Pipeline(steps=[('selector',\n",
              "                                                                  NumberSelector(key='EstimatedSalary')),\n",
              "                                                                 ('scaler',\n",
              "                                                                  StandardScaler())]))])),\n",
              "                ('classifier', LogisticRegression(random_state=42))])"
            ]
          },
          "metadata": {},
          "execution_count": 131
        }
      ]
    },
    {
      "cell_type": "code",
      "source": [
        "pipeline_GB.fit(X_train, y_train)"
      ],
      "metadata": {
        "colab": {
          "base_uri": "https://localhost:8080/"
        },
        "id": "jmHNhOVXG9cf",
        "outputId": "c33071e3-0b6f-4dd2-cfc4-78b30d455c45"
      },
      "execution_count": 132,
      "outputs": [
        {
          "output_type": "execute_result",
          "data": {
            "text/plain": [
              "Pipeline(steps=[('features',\n",
              "                 FeatureUnion(transformer_list=[('Geography',\n",
              "                                                 Pipeline(steps=[('selector',\n",
              "                                                                  FeatureSelector(column='Geography')),\n",
              "                                                                 ('ohe',\n",
              "                                                                  OHEEncoder(key='Geography'))])),\n",
              "                                                ('Gender',\n",
              "                                                 Pipeline(steps=[('selector',\n",
              "                                                                  FeatureSelector(column='Gender')),\n",
              "                                                                 ('ohe',\n",
              "                                                                  OHEEncoder(key='Gender'))])),\n",
              "                                                ('Tenure',\n",
              "                                                 Pipeline(steps=[('selector',\n",
              "                                                                  FeatureSelector(column='Tenu...\n",
              "                                                                  NumberSelector(key='Balance')),\n",
              "                                                                 ('scaler',\n",
              "                                                                  StandardScaler())])),\n",
              "                                                ('NumOfProducts',\n",
              "                                                 Pipeline(steps=[('selector',\n",
              "                                                                  NumberSelector(key='NumOfProducts')),\n",
              "                                                                 ('scaler',\n",
              "                                                                  StandardScaler())])),\n",
              "                                                ('EstimatedSalary',\n",
              "                                                 Pipeline(steps=[('selector',\n",
              "                                                                  NumberSelector(key='EstimatedSalary')),\n",
              "                                                                 ('scaler',\n",
              "                                                                  StandardScaler())]))])),\n",
              "                ('classifier', GradientBoostingClassifier(random_state=42))])"
            ]
          },
          "metadata": {},
          "execution_count": 132
        }
      ]
    },
    {
      "cell_type": "code",
      "execution_count": 133,
      "metadata": {
        "scrolled": false,
        "colab": {
          "base_uri": "https://localhost:8080/"
        },
        "id": "6jBW5v0z3BF1",
        "outputId": "bd9c5581-3cef-4ceb-e48b-9aa1a9c9fb1b"
      },
      "outputs": [
        {
          "output_type": "execute_result",
          "data": {
            "text/plain": [
              "Pipeline(steps=[('features',\n",
              "                 FeatureUnion(transformer_list=[('Geography',\n",
              "                                                 Pipeline(steps=[('selector',\n",
              "                                                                  FeatureSelector(column='Geography')),\n",
              "                                                                 ('ohe',\n",
              "                                                                  OHEEncoder(key='Geography'))])),\n",
              "                                                ('Gender',\n",
              "                                                 Pipeline(steps=[('selector',\n",
              "                                                                  FeatureSelector(column='Gender')),\n",
              "                                                                 ('ohe',\n",
              "                                                                  OHEEncoder(key='Gender'))])),\n",
              "                                                ('Tenure',\n",
              "                                                 Pipeline(steps=[('selector',\n",
              "                                                                  FeatureSelector(column='Tenu...\n",
              "                                                                  NumberSelector(key='Balance')),\n",
              "                                                                 ('scaler',\n",
              "                                                                  StandardScaler())])),\n",
              "                                                ('NumOfProducts',\n",
              "                                                 Pipeline(steps=[('selector',\n",
              "                                                                  NumberSelector(key='NumOfProducts')),\n",
              "                                                                 ('scaler',\n",
              "                                                                  StandardScaler())])),\n",
              "                                                ('EstimatedSalary',\n",
              "                                                 Pipeline(steps=[('selector',\n",
              "                                                                  NumberSelector(key='EstimatedSalary')),\n",
              "                                                                 ('scaler',\n",
              "                                                                  StandardScaler())]))])),\n",
              "                ('classifier', RandomForestClassifier(random_state=42))])"
            ]
          },
          "metadata": {},
          "execution_count": 133
        }
      ],
      "source": [
        "#обучим наш пайплайн\n",
        "pipeline_RF.fit(X_train, y_train)"
      ]
    },
    {
      "cell_type": "code",
      "execution_count": 233,
      "metadata": {
        "colab": {
          "base_uri": "https://localhost:8080/"
        },
        "id": "f1aGZw2z3BF1",
        "outputId": "a3137d12-be03-4f47-bc56-2d33f68eed23"
      },
      "outputs": [
        {
          "output_type": "stream",
          "name": "stdout",
          "text": [
            "{'model': ['Logistic Regression', 'Gradient Boosting', 'Random Forest'], 'f-score': [], 'precision': [], 'recall': []}\n"
          ]
        }
      ],
      "source": [
        "#наши прогнозы для тестовой выборки\n",
        "compare_mods = {'model': [], 'f-score':[], 'precision':[], 'recall':[] }\n",
        "preds_LR = pipeline_LR.predict_proba(X_test)[:, 1]\n",
        "preds_GB = pipeline_GB.predict_proba(X_test)[:, 1]\n",
        "preds_RF = pipeline_RF.predict_proba(X_test)[:, 1]\n",
        "compare_mods['model'].append('Logistic Regression')\n",
        "compare_mods['model'].append('Gradient Boosting')\n",
        "compare_mods['model'].append('Random Forest')\n",
        "print(compare_mods)\n",
        "\n",
        "\n"
      ]
    },
    {
      "cell_type": "markdown",
      "metadata": {
        "id": "1fhwlQss3BF1"
      },
      "source": [
        "Также нам нужно от вероятностей перейти к меткам классов. Для этого нужно подобрать порог, после которого мы считаем, что объект можно отнести к классу 1 (если вероятность больше порога - размечаем объект как класс 1, если нет - класс 0)"
      ]
    },
    {
      "cell_type": "code",
      "execution_count": 135,
      "metadata": {
        "id": "NvpFrVfm3BF1"
      },
      "outputs": [],
      "source": [
        "from sklearn.metrics import f1_score, roc_auc_score, precision_score, classification_report, precision_recall_curve, confusion_matrix"
      ]
    },
    {
      "cell_type": "code",
      "execution_count": 211,
      "metadata": {
        "id": "WUo97WXI3BF1"
      },
      "outputs": [],
      "source": [
        "def pres_rec(y_test, preds):\n",
        "    precision, recall, thresholds = precision_recall_curve(y_test, preds)\n",
        "    fscore = (2 * precision * recall) / (precision + recall)\n",
        "    # locate the index of the largest f score\n",
        "    ix = np.argmax(fscore)\n",
        "    return thresholds[ix], fscore[ix], precision[ix], recall[ix]"
      ]
    },
    {
      "cell_type": "code",
      "source": [
        "thresholds_LR, fscore_LR, precision_LR, recall_LR = pres_rec(y_test, preds_LR)\n",
        "compare_mods['f-score'].append(fscore_LR)\n",
        "compare_mods['precision'].append(precision_LR)\n",
        "compare_mods['recall'].append(recall_LR)"
      ],
      "metadata": {
        "id": "Z3sp6n2JJlVY"
      },
      "execution_count": 234,
      "outputs": []
    },
    {
      "cell_type": "code",
      "source": [
        "thresholds_GB, fscore_GB, precision_GB, recall_GB = pres_rec(y_test, preds_GB)\n",
        "compare_mods['f-score'].append(fscore_GB)\n",
        "compare_mods['precision'].append(precision_GB)\n",
        "compare_mods['recall'].append(recall_GB)\n",
        "print(compare_mods)"
      ],
      "metadata": {
        "colab": {
          "base_uri": "https://localhost:8080/"
        },
        "id": "RBt7OIrOKVuz",
        "outputId": "3cdad4d5-ec45-4d8d-c179-1f5b041d7daa"
      },
      "execution_count": 235,
      "outputs": [
        {
          "output_type": "stream",
          "name": "stdout",
          "text": [
            "{'model': ['Logistic Regression', 'Gradient Boosting', 'Random Forest'], 'f-score': [0.5097001763668431, 0.6461211477151967], 'precision': [0.4624, 0.7037037037037037], 'recall': [0.5677799607072691, 0.5972495088408645]}\n"
          ]
        }
      ]
    },
    {
      "cell_type": "code",
      "source": [
        "thresholds_RF, fscore_RF, precision_RF, recall_RF = pres_rec(y_test, preds_RF)\n",
        "compare_mods['f-score'].append(fscore_RF)\n",
        "compare_mods['precision'].append(precision_RF)\n",
        "compare_mods['recall'].append(recall_RF)\n",
        "print(compare_mods)"
      ],
      "metadata": {
        "colab": {
          "base_uri": "https://localhost:8080/"
        },
        "id": "-OhLg_KyKio6",
        "outputId": "73cb7a17-c8d7-48e5-da58-057ab1bd48c3"
      },
      "execution_count": 236,
      "outputs": [
        {
          "output_type": "stream",
          "name": "stdout",
          "text": [
            "{'model': ['Logistic Regression', 'Gradient Boosting', 'Random Forest'], 'f-score': [0.5097001763668431, 0.6461211477151967, 0.6412825651302605], 'precision': [0.4624, 0.7037037037037037, 0.65439672801636], 'recall': [0.5677799607072691, 0.5972495088408645, 0.6286836935166994]}\n"
          ]
        }
      ]
    },
    {
      "cell_type": "code",
      "execution_count": 216,
      "metadata": {
        "id": "0gOa_sa83BF2"
      },
      "outputs": [],
      "source": [
        "def plot_confusion_matrix(cm, classes,\n",
        "                          normalize=False,\n",
        "                          title='Confusion matrix',\n",
        "                          cmap=plt.cm.Blues):\n",
        "    \"\"\"\n",
        "    This function prints and plots the confusion matrix.\n",
        "    Normalization can be applied by setting `normalize=True`.\n",
        "    \"\"\"\n",
        "    plt.imshow(cm, interpolation='nearest', cmap=cmap)\n",
        "    plt.title(title)\n",
        "    plt.colorbar()\n",
        "    tick_marks = np.arange(len(classes))\n",
        "    plt.xticks(tick_marks, classes, rotation=45)\n",
        "    plt.yticks(tick_marks, classes)\n",
        "\n",
        "    if normalize:\n",
        "        cm = cm.astype('float') / cm.sum(axis=1)[:, np.newaxis]\n",
        "        print(\"Normalized confusion matrix\")\n",
        "    else:\n",
        "        print('Confusion matrix, without normalization')\n",
        "\n",
        "    print(cm)\n",
        "\n",
        "    thresh = cm.max() / 2.\n",
        "    for i, j in itertools.product(range(cm.shape[0]), range(cm.shape[1])):\n",
        "        plt.text(j, i, cm[i, j],\n",
        "                 horizontalalignment=\"center\",\n",
        "                 color=\"white\" if cm[i, j] > thresh else \"black\")\n",
        "\n",
        "    plt.tight_layout()\n",
        "    plt.ylabel('True label')\n",
        "    plt.xlabel('Predicted label')"
      ]
    },
    {
      "cell_type": "code",
      "execution_count": 217,
      "metadata": {
        "id": "T9RXnVDX3BF2",
        "outputId": "a91c4fd4-be2f-4792-c320-38e45031c93b",
        "colab": {
          "base_uri": "https://localhost:8080/",
          "height": 645
        }
      },
      "outputs": [
        {
          "output_type": "stream",
          "name": "stdout",
          "text": [
            "Confusion matrix, without normalization\n",
            "[[1655  336]\n",
            " [ 221  288]]\n"
          ]
        },
        {
          "output_type": "display_data",
          "data": {
            "image/png": "[encoded data removed]",
            "text/plain": [
              "<Figure size 720x576 with 2 Axes>"
            ]
          },
          "metadata": {
            "needs_background": "light"
          }
        }
      ],
      "source": [
        "#мы уже нашли ранее \"оптимальный\" порог, когда максимизировали f_score\n",
        "font = {'size' : 15}\n",
        "\n",
        "plt.rc('font', **font)\n",
        "\n",
        "cnf_matrix_LR = confusion_matrix(y_test, preds_LR>thresholds_LR)\n",
        "plt.figure(figsize=(10, 8))\n",
        "plot_confusion_matrix(cnf_matrix_LR, classes=['NonChurn', 'Churn'],\n",
        "                      title='Confusion matrix for LOG REG')\n",
        "plt.savefig(\"conf_matrix.png\")\n",
        "plt.show()"
      ]
    },
    {
      "cell_type": "code",
      "source": [
        "font = {'size' : 15}\n",
        "\n",
        "plt.rc('font', **font)\n",
        "\n",
        "cnf_matrix_GB = confusion_matrix(y_test, preds_GB>thresholds_GB)\n",
        "plt.figure(figsize=(10, 8))\n",
        "plot_confusion_matrix(cnf_matrix_GB, classes=['NonChurn', 'Churn'],\n",
        "                      title='Confusion matrix for GRAD BOOST')\n",
        "plt.savefig(\"conf_matrix.png\")\n",
        "plt.show()"
      ],
      "metadata": {
        "colab": {
          "base_uri": "https://localhost:8080/",
          "height": 645
        },
        "id": "i_MrVSo-MbzL",
        "outputId": "d70d1bd4-7790-44d3-f7db-8a3ec8a391bb"
      },
      "execution_count": 218,
      "outputs": [
        {
          "output_type": "stream",
          "name": "stdout",
          "text": [
            "Confusion matrix, without normalization\n",
            "[[1863  128]\n",
            " [ 206  303]]\n"
          ]
        },
        {
          "output_type": "display_data",
          "data": {
            "image/png": "[encoded data removed]",
            "text/plain": [
              "<Figure size 720x576 with 2 Axes>"
            ]
          },
          "metadata": {
            "needs_background": "light"
          }
        }
      ]
    },
    {
      "cell_type": "code",
      "source": [
        "font = {'size' : 15}\n",
        "\n",
        "plt.rc('font', **font)\n",
        "\n",
        "cnf_matrix_RF = confusion_matrix(y_test, preds_RF>thresholds_RF)\n",
        "plt.figure(figsize=(10, 8))\n",
        "plot_confusion_matrix(cnf_matrix_RF, classes=['NonChurn', 'Churn'],\n",
        "                      title='Confusion matrix for RANDOM FOREST')\n",
        "plt.savefig(\"conf_matrix.png\")\n",
        "plt.show()"
      ],
      "metadata": {
        "colab": {
          "base_uri": "https://localhost:8080/",
          "height": 645
        },
        "id": "CMhF0-vIMjcf",
        "outputId": "15b6d18e-07fb-49b2-e83b-7d3527b3f3e5"
      },
      "execution_count": 220,
      "outputs": [
        {
          "output_type": "stream",
          "name": "stdout",
          "text": [
            "Confusion matrix, without normalization\n",
            "[[1833  158]\n",
            " [ 195  314]]\n"
          ]
        },
        {
          "output_type": "display_data",
          "data": {
            "image/png": "[encoded data removed]",
            "text/plain": [
              "<Figure size 720x576 with 2 Axes>"
            ]
          },
          "metadata": {
            "needs_background": "light"
          }
        }
      ]
    },
    {
      "cell_type": "markdown",
      "metadata": {
        "id": "EwlEG8mk3BF2"
      },
      "source": [
        "Можно заметить, что мы очень сильно ошибаемся в сторону False Negatives, т.е у нас много тех, кто ушел в отток на самом деле, но при выбранном нами пороге в 0.38 мы не считаем их таковыми. "
      ]
    },
    {
      "cell_type": "code",
      "source": [
        "TN = cnf_matrix_GB[0][0]\n",
        "FN = cnf_matrix_GB[1][0]\n",
        "TP = cnf_matrix_GB[1][1]\n",
        "FP = cnf_matrix_GB[0][1]\n",
        "income = TP*2\n",
        "outcome = (TP+FP)*1\n",
        "print(income-outcome)"
      ],
      "metadata": {
        "colab": {
          "base_uri": "https://localhost:8080/"
        },
        "id": "UwKp9kNjGiJD",
        "outputId": "885c1caa-03f1-45b5-baf5-5f10c2dda464"
      },
      "execution_count": 224,
      "outputs": [
        {
          "output_type": "stream",
          "name": "stdout",
          "text": [
            "175\n"
          ]
        }
      ]
    },
    {
      "cell_type": "code",
      "source": [
        "TN = cnf_matrix_RF[0][0]\n",
        "FN = cnf_matrix_RF[1][0]\n",
        "TP = cnf_matrix_RF[1][1]\n",
        "FP = cnf_matrix_RF[0][1]\n",
        "income = TP*2\n",
        "outcome = (TP+FP)*1\n",
        "print(income-outcome)"
      ],
      "metadata": {
        "colab": {
          "base_uri": "https://localhost:8080/"
        },
        "id": "aiLyAStXSIKF",
        "outputId": "8a731d62-3dd3-4172-eb60-9b345f024404"
      },
      "execution_count": 225,
      "outputs": [
        {
          "output_type": "stream",
          "name": "stdout",
          "text": [
            "156\n"
          ]
        }
      ]
    },
    {
      "cell_type": "code",
      "source": [
        "TN = cnf_matrix_LR[0][0]\n",
        "FN = cnf_matrix_LR[1][0]\n",
        "TP = cnf_matrix_LR[1][1]\n",
        "FP = cnf_matrix_LR[0][1]\n",
        "income = TP*2\n",
        "outcome = (TP+FP)*1\n",
        "print(income-outcome)"
      ],
      "metadata": {
        "colab": {
          "base_uri": "https://localhost:8080/"
        },
        "id": "9HZATZMsRUQm",
        "outputId": "d1beecf2-54a9-49c1-cfa7-6bdb34a9f06c"
      },
      "execution_count": 226,
      "outputs": [
        {
          "output_type": "stream",
          "name": "stdout",
          "text": [
            "-48\n"
          ]
        }
      ]
    },
    {
      "cell_type": "markdown",
      "metadata": {
        "id": "AN5lCDUz3BF2"
      },
      "source": [
        "<b>Вопрос 2: предположим, что на удержание одного пользователя у нас уйдет 1 доллар. При этом средняя ожидаемая прибыль с каждого TP (true positive) - 2 доллара. Оцените качество модели выше с учетом этих данных и ответьте на вопрос, является ли она потенциально экономически целесообразной?</b>"
      ]
    },
    {
      "cell_type": "markdown",
      "metadata": {
        "id": "xG7-L0XX3BF2"
      },
      "source": [
        "Ваш ответ здесь: "
      ]
    },
    {
      "cell_type": "code",
      "execution_count": null,
      "metadata": {
        "id": "-VfKfSzX3BF2"
      },
      "outputs": [],
      "source": [
        ""
      ]
    },
    {
      "cell_type": "markdown",
      "metadata": {
        "id": "QcYT6Ss-3BF2"
      },
      "source": [
        "### Пример с перебором параметров с помощью GridSearch"
      ]
    },
    {
      "cell_type": "markdown",
      "metadata": {
        "id": "fQGIICM73BF2"
      },
      "source": [
        "Сетка с параметрами"
      ]
    },
    {
      "cell_type": "code",
      "execution_count": 184,
      "metadata": {
        "id": "_Qvw0vkd3BF2"
      },
      "outputs": [],
      "source": [
        "from sklearn.model_selection import GridSearchCV\n",
        "\n",
        "params={'classifier__n_estimators':[10, 100, 1000],\n",
        "        'classifier__min_samples_leaf':[1, 2, 3],\n",
        "        }"
      ]
    },
    {
      "cell_type": "markdown",
      "metadata": {
        "id": "q2v5Ufuw3BF3"
      },
      "source": [
        "Запускаем перебор"
      ]
    },
    {
      "cell_type": "code",
      "execution_count": 185,
      "metadata": {
        "scrolled": true,
        "id": "c1pzPoxz3BF3",
        "outputId": "c3d977d1-e63b-4be6-8421-fb7ffde78458",
        "colab": {
          "base_uri": "https://localhost:8080/"
        }
      },
      "outputs": [
        {
          "output_type": "execute_result",
          "data": {
            "text/plain": [
              "{'classifier__min_samples_leaf': 2, 'classifier__n_estimators': 100}"
            ]
          },
          "metadata": {},
          "execution_count": 185
        }
      ],
      "source": [
        "grid = GridSearchCV(pipeline_GB,\n",
        "                    param_grid=params,\n",
        "                    cv=6,\n",
        "                    refit=False)\n",
        "\n",
        "search = grid.fit(X_train, y_train)\n",
        "search.best_params_"
      ]
    },
    {
      "cell_type": "markdown",
      "metadata": {
        "id": "zmhAmmVt3BF3"
      },
      "source": [
        "Обучаем модель уже сновыми параметрами"
      ]
    },
    {
      "cell_type": "code",
      "execution_count": 186,
      "metadata": {
        "id": "8nIQip1n3BF3",
        "outputId": "6248749b-3cd3-4689-d9fa-c400ae46c192",
        "colab": {
          "base_uri": "https://localhost:8080/"
        }
      },
      "outputs": [
        {
          "output_type": "execute_result",
          "data": {
            "text/plain": [
              "Pipeline(steps=[('features',\n",
              "                 FeatureUnion(transformer_list=[('Geography',\n",
              "                                                 Pipeline(steps=[('selector',\n",
              "                                                                  FeatureSelector(column='Geography')),\n",
              "                                                                 ('ohe',\n",
              "                                                                  OHEEncoder(key='Geography'))])),\n",
              "                                                ('Gender',\n",
              "                                                 Pipeline(steps=[('selector',\n",
              "                                                                  FeatureSelector(column='Gender')),\n",
              "                                                                 ('ohe',\n",
              "                                                                  OHEEncoder(key='Gender'))])),\n",
              "                                                ('Tenure',\n",
              "                                                 Pipeline(steps=[('selector',\n",
              "                                                                  FeatureSelector(column='Tenu...\n",
              "                                                                  NumberSelector(key='Balance')),\n",
              "                                                                 ('scaler',\n",
              "                                                                  StandardScaler())])),\n",
              "                                                ('NumOfProducts',\n",
              "                                                 Pipeline(steps=[('selector',\n",
              "                                                                  NumberSelector(key='NumOfProducts')),\n",
              "                                                                 ('scaler',\n",
              "                                                                  StandardScaler())])),\n",
              "                                                ('EstimatedSalary',\n",
              "                                                 Pipeline(steps=[('selector',\n",
              "                                                                  NumberSelector(key='EstimatedSalary')),\n",
              "                                                                 ('scaler',\n",
              "                                                                  StandardScaler())]))])),\n",
              "                ('classifier',\n",
              "                 GradientBoostingClassifier(min_samples_leaf=2,\n",
              "                                            random_state=42))])"
            ]
          },
          "metadata": {},
          "execution_count": 186
        }
      ],
      "source": [
        "pipeline_GB_opt = Pipeline([\n",
        "    ('features',feats),\n",
        "    ('classifier', GradientBoostingClassifier(min_samples_leaf=2, random_state=42)),\n",
        "])\n",
        "pipeline_GB_opt.fit(X_train, y_train)"
      ]
    },
    {
      "cell_type": "code",
      "execution_count": 227,
      "metadata": {
        "id": "_xbuaAhD3BF3",
        "outputId": "875c9fb2-fe91-4114-ac65-9a79170a78b2",
        "colab": {
          "base_uri": "https://localhost:8080/",
          "height": 663
        }
      },
      "outputs": [
        {
          "output_type": "stream",
          "name": "stdout",
          "text": [
            "Best Threshold=0.355052, F-Score=0.645, Precision=0.653, Recall=0.637\n",
            "Confusion matrix, without normalization\n",
            "[[1819  172]\n",
            " [ 186  323]]\n"
          ]
        },
        {
          "output_type": "display_data",
          "data": {
            "image/png": "[encoded data removed]",
            "text/plain": [
              "<Figure size 720x576 with 2 Axes>"
            ]
          },
          "metadata": {
            "needs_background": "light"
          }
        }
      ],
      "source": [
        "preds_opt = pipeline_GB_opt.predict_proba(X_test)[:, 1]\n",
        "precision, recall, thresholds = precision_recall_curve(y_test, preds_opt)\n",
        "fscore = (2 * precision * recall) / (precision + recall)\n",
        "# locate the index of the largest f score\n",
        "ix = np.argmax(fscore)\n",
        "print('Best Threshold=%f, F-Score=%.3f, Precision=%.3f, Recall=%.3f' % (thresholds[ix], \n",
        "                                                                        fscore[ix],\n",
        "                                                                        precision[ix],\n",
        "                                                                        recall[ix]))\n",
        "\n",
        "#мы уже нашли ранее \"оптимальный\" порог, когда максимизировали f_score\n",
        "font = {'size' : 15}\n",
        "\n",
        "plt.rc('font', **font)\n",
        "\n",
        "cnf_matrix = confusion_matrix(y_test, preds_opt>thresholds[ix])\n",
        "plt.figure(figsize=(10, 8))\n",
        "plot_confusion_matrix(cnf_matrix, classes=['NonChurn', 'Churn'],\n",
        "                      title='Confusion matrix Grad Boost optimised')\n",
        "plt.savefig(\"conf_matrix.png\")\n",
        "plt.show()"
      ]
    },
    {
      "cell_type": "markdown",
      "metadata": {
        "id": "mepv-cA53BF3"
      },
      "source": [
        "Метрики немного стали выше"
      ]
    },
    {
      "cell_type": "code",
      "execution_count": 228,
      "metadata": {
        "id": "rB1DobTC3BF3",
        "colab": {
          "base_uri": "https://localhost:8080/"
        },
        "outputId": "c2f17f34-e66c-4347-f11e-b02d2453e7b4"
      },
      "outputs": [
        {
          "output_type": "stream",
          "name": "stdout",
          "text": [
            "151\n"
          ]
        }
      ],
      "source": [
        "TN = cnf_matrix[0][0]\n",
        "FN = cnf_matrix[1][0]\n",
        "TP = cnf_matrix[1][1]\n",
        "FP = cnf_matrix[0][1]\n",
        "income = TP*2\n",
        "outcome = (TP+FP)*1\n",
        "print(income-outcome)"
      ]
    },
    {
      "cell_type": "code",
      "source": [
        "compare_mods['model'].pop(-1)\n",
        "compare_mods['f-score'].pop(-1)\n",
        "compare_mods['precision'].pop(-1)\n",
        "compare_mods['recall'].pop(-1)"
      ],
      "metadata": {
        "colab": {
          "base_uri": "https://localhost:8080/"
        },
        "id": "zsedyWRxYkcn",
        "outputId": "2388be42-1727-4189-ea1a-1cf33c446a72"
      },
      "execution_count": 241,
      "outputs": [
        {
          "output_type": "execute_result",
          "data": {
            "text/plain": [
              "array([1.        , 0.99803536, 0.99803536, ..., 0.00392927, 0.00196464,\n",
              "       0.        ])"
            ]
          },
          "metadata": {},
          "execution_count": 241
        }
      ]
    },
    {
      "cell_type": "code",
      "source": [
        "compare_mods['model'].append('Grad_Boost_Optimised')\n",
        "compare_mods['f-score'].append(fscore[ix])\n",
        "compare_mods['precision'].append(precision[ix])\n",
        "compare_mods['recall'].append(recall[ix])"
      ],
      "metadata": {
        "id": "3NuJvog0YCJ2"
      },
      "execution_count": 242,
      "outputs": []
    },
    {
      "cell_type": "code",
      "source": [
        "print(compare_mods)"
      ],
      "metadata": {
        "colab": {
          "base_uri": "https://localhost:8080/"
        },
        "id": "jXK_lM8XYa7q",
        "outputId": "56e91b6e-23c8-49c1-aff4-ea95897620af"
      },
      "execution_count": 243,
      "outputs": [
        {
          "output_type": "stream",
          "name": "stdout",
          "text": [
            "{'model': ['Logistic Regression', 'Gradient Boosting', 'Random Forest', 'Grad_Boost_Optimised'], 'f-score': [0.5097001763668431, 0.6461211477151967, 0.6412825651302605, 0.6447761194029852], 'precision': [0.4624, 0.7037037037037037, 0.65439672801636, 0.6532258064516129], 'recall': [0.5677799607072691, 0.5972495088408645, 0.6286836935166994, 0.6365422396856582]}\n"
          ]
        }
      ]
    },
    {
      "cell_type": "code",
      "execution_count": 244,
      "metadata": {
        "id": "EMx5j9nB3BF3",
        "colab": {
          "base_uri": "https://localhost:8080/",
          "height": 175
        },
        "outputId": "19dda25e-379d-4437-a0be-d2573965fe11"
      },
      "outputs": [
        {
          "output_type": "execute_result",
          "data": {
            "text/html": [
              "\n",
              "  <div id=\"df-dd6056d0-4762-4b31-a47f-91d260833c4e\">\n",
              "    <div class=\"colab-df-container\">\n",
              "      <div>\n",
              "<style scoped>\n",
              "    .dataframe tbody tr th:only-of-type {\n",
              "        vertical-align: middle;\n",
              "    }\n",
              "\n",
              "    .dataframe tbody tr th {\n",
              "        vertical-align: top;\n",
              "    }\n",
              "\n",
              "    .dataframe thead th {\n",
              "        text-align: right;\n",
              "    }\n",
              "</style>\n",
              "<table border=\"1\" class=\"dataframe\">\n",
              "  <thead>\n",
              "    <tr style=\"text-align: right;\">\n",
              "      <th></th>\n",
              "      <th>model</th>\n",
              "      <th>f-score</th>\n",
              "      <th>precision</th>\n",
              "      <th>recall</th>\n",
              "    </tr>\n",
              "  </thead>\n",
              "  <tbody>\n",
              "    <tr>\n",
              "      <th>1</th>\n",
              "      <td>Gradient Boosting</td>\n",
              "      <td>0.646121</td>\n",
              "      <td>0.703704</td>\n",
              "      <td>0.597250</td>\n",
              "    </tr>\n",
              "    <tr>\n",
              "      <th>2</th>\n",
              "      <td>Random Forest</td>\n",
              "      <td>0.641283</td>\n",
              "      <td>0.654397</td>\n",
              "      <td>0.628684</td>\n",
              "    </tr>\n",
              "    <tr>\n",
              "      <th>3</th>\n",
              "      <td>Grad_Boost_Optimised</td>\n",
              "      <td>0.644776</td>\n",
              "      <td>0.653226</td>\n",
              "      <td>0.636542</td>\n",
              "    </tr>\n",
              "    <tr>\n",
              "      <th>0</th>\n",
              "      <td>Logistic Regression</td>\n",
              "      <td>0.509700</td>\n",
              "      <td>0.462400</td>\n",
              "      <td>0.567780</td>\n",
              "    </tr>\n",
              "  </tbody>\n",
              "</table>\n",
              "</div>\n",
              "      <button class=\"colab-df-convert\" onclick=\"convertToInteractive('df-dd6056d0-4762-4b31-a47f-91d260833c4e')\"\n",
              "              title=\"Convert this dataframe to an interactive table.\"\n",
              "              style=\"display:none;\">\n",
              "        \n",
              "  <svg xmlns=\"http://www.w3.org/2000/svg\" height=\"24px\"viewBox=\"0 0 24 24\"\n",
              "       width=\"24px\">\n",
              "    <path d=\"M0 0h24v24H0V0z\" fill=\"none\"/>\n",
              "    <path d=\"M18.56 5.44l.94 2.06.94-2.06 2.06-.94-2.06-.94-.94-2.06-.94 2.06-2.06.94zm-11 1L8.5 8.5l.94-2.06 2.06-.94-2.06-.94L8.5 2.5l-.94 2.06-2.06.94zm10 10l.94 2.06.94-2.06 2.06-.94-2.06-.94-.94-2.06-.94 2.06-2.06.94z\"/><path d=\"M17.41 7.96l-1.37-1.37c-.4-.4-.92-.59-1.43-.59-.52 0-1.04.2-1.43.59L10.3 9.45l-7.72 7.72c-.78.78-.78 2.05 0 2.83L4 21.41c.39.39.9.59 1.41.59.51 0 1.02-.2 1.41-.59l7.78-7.78 2.81-2.81c.8-.78.8-2.07 0-2.86zM5.41 20L4 18.59l7.72-7.72 1.47 1.35L5.41 20z\"/>\n",
              "  </svg>\n",
              "      </button>\n",
              "      \n",
              "  <style>\n",
              "    .colab-df-container {\n",
              "      display:flex;\n",
              "      flex-wrap:wrap;\n",
              "      gap: 12px;\n",
              "    }\n",
              "\n",
              "    .colab-df-convert {\n",
              "      background-color: #E8F0FE;\n",
              "      border: none;\n",
              "      border-radius: 50%;\n",
              "      cursor: pointer;\n",
              "      display: none;\n",
              "      fill: #1967D2;\n",
              "      height: 32px;\n",
              "      padding: 0 0 0 0;\n",
              "      width: 32px;\n",
              "    }\n",
              "\n",
              "    .colab-df-convert:hover {\n",
              "      background-color: #E2EBFA;\n",
              "      box-shadow: 0px 1px 2px rgba(60, 64, 67, 0.3), 0px 1px 3px 1px rgba(60, 64, 67, 0.15);\n",
              "      fill: #174EA6;\n",
              "    }\n",
              "\n",
              "    [theme=dark] .colab-df-convert {\n",
              "      background-color: #3B4455;\n",
              "      fill: #D2E3FC;\n",
              "    }\n",
              "\n",
              "    [theme=dark] .colab-df-convert:hover {\n",
              "      background-color: #434B5C;\n",
              "      box-shadow: 0px 1px 3px 1px rgba(0, 0, 0, 0.15);\n",
              "      filter: drop-shadow(0px 1px 2px rgba(0, 0, 0, 0.3));\n",
              "      fill: #FFFFFF;\n",
              "    }\n",
              "  </style>\n",
              "\n",
              "      <script>\n",
              "        const buttonEl =\n",
              "          document.querySelector('#df-dd6056d0-4762-4b31-a47f-91d260833c4e button.colab-df-convert');\n",
              "        buttonEl.style.display =\n",
              "          google.colab.kernel.accessAllowed ? 'block' : 'none';\n",
              "\n",
              "        async function convertToInteractive(key) {\n",
              "          const element = document.querySelector('#df-dd6056d0-4762-4b31-a47f-91d260833c4e');\n",
              "          const dataTable =\n",
              "            await google.colab.kernel.invokeFunction('convertToInteractive',\n",
              "                                                     [key], {});\n",
              "          if (!dataTable) return;\n",
              "\n",
              "          const docLinkHtml = 'Like what you see? Visit the ' +\n",
              "            '<a target=\"_blank\" href=https://colab.research.google.com/notebooks/data_table.ipynb>data table notebook</a>'\n",
              "            + ' to learn more about interactive tables.';\n",
              "          element.innerHTML = '';\n",
              "          dataTable['output_type'] = 'display_data';\n",
              "          await google.colab.output.renderOutput(dataTable, element);\n",
              "          const docLink = document.createElement('div');\n",
              "          docLink.innerHTML = docLinkHtml;\n",
              "          element.appendChild(docLink);\n",
              "        }\n",
              "      </script>\n",
              "    </div>\n",
              "  </div>\n",
              "  "
            ],
            "text/plain": [
              "                  model   f-score  precision    recall\n",
              "1     Gradient Boosting  0.646121   0.703704  0.597250\n",
              "2         Random Forest  0.641283   0.654397  0.628684\n",
              "3  Grad_Boost_Optimised  0.644776   0.653226  0.636542\n",
              "0   Logistic Regression  0.509700   0.462400  0.567780"
            ]
          },
          "metadata": {},
          "execution_count": 244
        }
      ],
      "source": [
        "pd.DataFrame(data=compare_mods).sort_values('precision', ascending=False)"
      ]
    }
  ],
  "metadata": {
    "kernelspec": {
      "display_name": "Python 3",
      "language": "python",
      "name": "python3"
    },
    "language_info": {
      "codemirror_mode": {
        "name": "ipython",
        "version": 3
      },
      "file_extension": ".py",
      "mimetype": "text/x-python",
      "name": "python",
      "nbconvert_exporter": "python",
      "pygments_lexer": "ipython3",
      "version": "3.8.3"
    },
    "colab": {
      "name": "HW5.ipynb",
      "provenance": []
    }
  },
  "nbformat": 4,
  "nbformat_minor": 0
}